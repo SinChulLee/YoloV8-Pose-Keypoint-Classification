{
 "cells": [
  {
   "cell_type": "markdown",
   "metadata": {
    "id": "1LKUFStAWIxK"
   },
   "source": [
    "# Install Requirements"
   ]
  },
  {
   "cell_type": "code",
   "execution_count": 1,
   "metadata": {
    "colab": {
     "base_uri": "https://localhost:8080/"
    },
    "executionInfo": {
     "elapsed": 16415,
     "status": "ok",
     "timestamp": 1701048433296,
     "user": {
      "displayName": "이신철",
      "userId": "00953967863074202792"
     },
     "user_tz": -540
    },
    "id": "Fp6GG6GWOg5V",
    "outputId": "ac026993-fee3-4b37-f206-bfe368fcce46"
   },
   "outputs": [
    {
     "name": "stdout",
     "output_type": "stream",
     "text": [
      "Mounted at /content/drive\n"
     ]
    }
   ],
   "source": [
    "# 드라이브 마운트\n",
    "from google.colab import drive\n",
    "drive.mount('/content/drive')"
   ]
  },
  {
   "cell_type": "code",
   "execution_count": 2,
   "metadata": {
    "colab": {
     "base_uri": "https://localhost:8080/"
    },
    "executionInfo": {
     "elapsed": 17514,
     "status": "ok",
     "timestamp": 1701048563323,
     "user": {
      "displayName": "이신철",
      "userId": "00953967863074202792"
     },
     "user_tz": -540
    },
    "id": "KYxXs8zAWN4B",
    "outputId": "8d38f972-107c-4036-881c-66d671ab2fe7"
   },
   "outputs": [
    {
     "name": "stdout",
     "output_type": "stream",
     "text": [
      "Collecting ultralytics\n",
      "  Downloading ultralytics-8.0.218-py3-none-any.whl (645 kB)\n",
      "\u001b[2K     \u001b[90m━━━━━━━━━━━━━━━━━━━━━━━━━━━━━━━━━━━━━━━━\u001b[0m \u001b[32m645.8/645.8 kB\u001b[0m \u001b[31m10.1 MB/s\u001b[0m eta \u001b[36m0:00:00\u001b[0m\n",
      "\u001b[?25hRequirement already satisfied: matplotlib>=3.3.0 in /usr/local/lib/python3.10/dist-packages (from ultralytics) (3.7.1)\n",
      "Requirement already satisfied: numpy>=1.22.2 in /usr/local/lib/python3.10/dist-packages (from ultralytics) (1.23.5)\n",
      "Requirement already satisfied: opencv-python>=4.6.0 in /usr/local/lib/python3.10/dist-packages (from ultralytics) (4.8.0.76)\n",
      "Requirement already satisfied: pillow>=7.1.2 in /usr/local/lib/python3.10/dist-packages (from ultralytics) (9.4.0)\n",
      "Requirement already satisfied: pyyaml>=5.3.1 in /usr/local/lib/python3.10/dist-packages (from ultralytics) (6.0.1)\n",
      "Requirement already satisfied: requests>=2.23.0 in /usr/local/lib/python3.10/dist-packages (from ultralytics) (2.31.0)\n",
      "Requirement already satisfied: scipy>=1.4.1 in /usr/local/lib/python3.10/dist-packages (from ultralytics) (1.11.3)\n",
      "Requirement already satisfied: torch>=1.8.0 in /usr/local/lib/python3.10/dist-packages (from ultralytics) (2.1.0+cu118)\n",
      "Requirement already satisfied: torchvision>=0.9.0 in /usr/local/lib/python3.10/dist-packages (from ultralytics) (0.16.0+cu118)\n",
      "Requirement already satisfied: tqdm>=4.64.0 in /usr/local/lib/python3.10/dist-packages (from ultralytics) (4.66.1)\n",
      "Requirement already satisfied: pandas>=1.1.4 in /usr/local/lib/python3.10/dist-packages (from ultralytics) (1.5.3)\n",
      "Requirement already satisfied: seaborn>=0.11.0 in /usr/local/lib/python3.10/dist-packages (from ultralytics) (0.12.2)\n",
      "Requirement already satisfied: psutil in /usr/local/lib/python3.10/dist-packages (from ultralytics) (5.9.5)\n",
      "Requirement already satisfied: py-cpuinfo in /usr/local/lib/python3.10/dist-packages (from ultralytics) (9.0.0)\n",
      "Collecting thop>=0.1.1 (from ultralytics)\n",
      "  Downloading thop-0.1.1.post2209072238-py3-none-any.whl (15 kB)\n",
      "Requirement already satisfied: contourpy>=1.0.1 in /usr/local/lib/python3.10/dist-packages (from matplotlib>=3.3.0->ultralytics) (1.2.0)\n",
      "Requirement already satisfied: cycler>=0.10 in /usr/local/lib/python3.10/dist-packages (from matplotlib>=3.3.0->ultralytics) (0.12.1)\n",
      "Requirement already satisfied: fonttools>=4.22.0 in /usr/local/lib/python3.10/dist-packages (from matplotlib>=3.3.0->ultralytics) (4.44.3)\n",
      "Requirement already satisfied: kiwisolver>=1.0.1 in /usr/local/lib/python3.10/dist-packages (from matplotlib>=3.3.0->ultralytics) (1.4.5)\n",
      "Requirement already satisfied: packaging>=20.0 in /usr/local/lib/python3.10/dist-packages (from matplotlib>=3.3.0->ultralytics) (23.2)\n",
      "Requirement already satisfied: pyparsing>=2.3.1 in /usr/local/lib/python3.10/dist-packages (from matplotlib>=3.3.0->ultralytics) (3.1.1)\n",
      "Requirement already satisfied: python-dateutil>=2.7 in /usr/local/lib/python3.10/dist-packages (from matplotlib>=3.3.0->ultralytics) (2.8.2)\n",
      "Requirement already satisfied: pytz>=2020.1 in /usr/local/lib/python3.10/dist-packages (from pandas>=1.1.4->ultralytics) (2023.3.post1)\n",
      "Requirement already satisfied: charset-normalizer<4,>=2 in /usr/local/lib/python3.10/dist-packages (from requests>=2.23.0->ultralytics) (3.3.2)\n",
      "Requirement already satisfied: idna<4,>=2.5 in /usr/local/lib/python3.10/dist-packages (from requests>=2.23.0->ultralytics) (3.4)\n",
      "Requirement already satisfied: urllib3<3,>=1.21.1 in /usr/local/lib/python3.10/dist-packages (from requests>=2.23.0->ultralytics) (2.0.7)\n",
      "Requirement already satisfied: certifi>=2017.4.17 in /usr/local/lib/python3.10/dist-packages (from requests>=2.23.0->ultralytics) (2023.7.22)\n",
      "Requirement already satisfied: filelock in /usr/local/lib/python3.10/dist-packages (from torch>=1.8.0->ultralytics) (3.13.1)\n",
      "Requirement already satisfied: typing-extensions in /usr/local/lib/python3.10/dist-packages (from torch>=1.8.0->ultralytics) (4.5.0)\n",
      "Requirement already satisfied: sympy in /usr/local/lib/python3.10/dist-packages (from torch>=1.8.0->ultralytics) (1.12)\n",
      "Requirement already satisfied: networkx in /usr/local/lib/python3.10/dist-packages (from torch>=1.8.0->ultralytics) (3.2.1)\n",
      "Requirement already satisfied: jinja2 in /usr/local/lib/python3.10/dist-packages (from torch>=1.8.0->ultralytics) (3.1.2)\n",
      "Requirement already satisfied: fsspec in /usr/local/lib/python3.10/dist-packages (from torch>=1.8.0->ultralytics) (2023.6.0)\n",
      "Requirement already satisfied: triton==2.1.0 in /usr/local/lib/python3.10/dist-packages (from torch>=1.8.0->ultralytics) (2.1.0)\n",
      "Requirement already satisfied: six>=1.5 in /usr/local/lib/python3.10/dist-packages (from python-dateutil>=2.7->matplotlib>=3.3.0->ultralytics) (1.16.0)\n",
      "Requirement already satisfied: MarkupSafe>=2.0 in /usr/local/lib/python3.10/dist-packages (from jinja2->torch>=1.8.0->ultralytics) (2.1.3)\n",
      "Requirement already satisfied: mpmath>=0.19 in /usr/local/lib/python3.10/dist-packages (from sympy->torch>=1.8.0->ultralytics) (1.3.0)\n",
      "Installing collected packages: thop, ultralytics\n",
      "Successfully installed thop-0.1.1.post2209072238 ultralytics-8.0.218\n",
      "Requirement already satisfied: kaggle in /usr/local/lib/python3.10/dist-packages (1.5.16)\n",
      "Collecting opendatasets\n",
      "  Downloading opendatasets-0.1.22-py3-none-any.whl (15 kB)\n",
      "Requirement already satisfied: six>=1.10 in /usr/local/lib/python3.10/dist-packages (from kaggle) (1.16.0)\n",
      "Requirement already satisfied: certifi in /usr/local/lib/python3.10/dist-packages (from kaggle) (2023.7.22)\n",
      "Requirement already satisfied: python-dateutil in /usr/local/lib/python3.10/dist-packages (from kaggle) (2.8.2)\n",
      "Requirement already satisfied: requests in /usr/local/lib/python3.10/dist-packages (from kaggle) (2.31.0)\n",
      "Requirement already satisfied: tqdm in /usr/local/lib/python3.10/dist-packages (from kaggle) (4.66.1)\n",
      "Requirement already satisfied: python-slugify in /usr/local/lib/python3.10/dist-packages (from kaggle) (8.0.1)\n",
      "Requirement already satisfied: urllib3 in /usr/local/lib/python3.10/dist-packages (from kaggle) (2.0.7)\n",
      "Requirement already satisfied: bleach in /usr/local/lib/python3.10/dist-packages (from kaggle) (6.1.0)\n",
      "Requirement already satisfied: click in /usr/local/lib/python3.10/dist-packages (from opendatasets) (8.1.7)\n",
      "Requirement already satisfied: webencodings in /usr/local/lib/python3.10/dist-packages (from bleach->kaggle) (0.5.1)\n",
      "Requirement already satisfied: text-unidecode>=1.3 in /usr/local/lib/python3.10/dist-packages (from python-slugify->kaggle) (1.3)\n",
      "Requirement already satisfied: charset-normalizer<4,>=2 in /usr/local/lib/python3.10/dist-packages (from requests->kaggle) (3.3.2)\n",
      "Requirement already satisfied: idna<4,>=2.5 in /usr/local/lib/python3.10/dist-packages (from requests->kaggle) (3.4)\n",
      "Installing collected packages: opendatasets\n",
      "Successfully installed opendatasets-0.1.22\n"
     ]
    }
   ],
   "source": [
    "!pip install ultralytics\n",
    "# !pip install git+https://github.com/ultralytics/ultralytics.git\n",
    "!pip install kaggle opendatasets"
   ]
  },
  {
   "cell_type": "markdown",
   "metadata": {
    "id": "Mo57RJYWWkuC"
   },
   "source": [
    "# Download Dataset"
   ]
  },
  {
   "cell_type": "code",
   "execution_count": 3,
   "metadata": {
    "executionInfo": {
     "elapsed": 7,
     "status": "ok",
     "timestamp": 1701048563323,
     "user": {
      "displayName": "이신철",
      "userId": "00953967863074202792"
     },
     "user_tz": -540
    },
    "id": "3mOQxPjHSkNN"
   },
   "outputs": [],
   "source": [
    "# # Download kaggle dataset\n",
    "# import opendatasets as od\n",
    "\n",
    "# od.download(\n",
    "#     'https://www.kaggle.com/datasets/ujjwalchowdhury/yoga-pose-classification'\n",
    "# )"
   ]
  },
  {
   "cell_type": "code",
   "execution_count": 4,
   "metadata": {
    "colab": {
     "base_uri": "https://localhost:8080/"
    },
    "executionInfo": {
     "elapsed": 6,
     "status": "ok",
     "timestamp": 1701048563324,
     "user": {
      "displayName": "이신철",
      "userId": "00953967863074202792"
     },
     "user_tz": -540
    },
    "id": "zb0K5uInSkQO",
    "outputId": "78cb12e5-9a9c-4255-cc41-92bed69d2d37"
   },
   "outputs": [
    {
     "name": "stdout",
     "output_type": "stream",
     "text": [
      "Downdog  Goddess  Plank  Tree  Warrior2\n"
     ]
    }
   ],
   "source": [
    "# 다운로드 받은 파일 pose들의 directory(label값들) 확인\n",
    "!ls /content/drive/MyDrive/miniproject/yoga-pose-classification/YogaPoses"
   ]
  },
  {
   "cell_type": "markdown",
   "metadata": {
    "id": "xOLBTxM3X3vp"
   },
   "source": [
    "# Yolov8 Pose"
   ]
  },
  {
   "cell_type": "code",
   "execution_count": 5,
   "metadata": {
    "executionInfo": {
     "elapsed": 10790,
     "status": "ok",
     "timestamp": 1701048574110,
     "user": {
      "displayName": "이신철",
      "userId": "00953967863074202792"
     },
     "user_tz": -540
    },
    "id": "Ng9LmFCzSkWC"
   },
   "outputs": [],
   "source": [
    "# import\n",
    "import cv2\n",
    "from PIL import Image, ImageFont, ImageDraw\n",
    "from pydantic import BaseModel\n",
    "\n",
    "import ultralytics"
   ]
  },
  {
   "cell_type": "code",
   "execution_count": 6,
   "metadata": {
    "colab": {
     "base_uri": "https://localhost:8080/",
     "height": 387
    },
    "executionInfo": {
     "elapsed": 1491,
     "status": "error",
     "timestamp": 1701048575585,
     "user": {
      "displayName": "이신철",
      "userId": "00953967863074202792"
     },
     "user_tz": -540
    },
    "id": "v8kKyS98SkY8",
    "outputId": "78a4347d-5715-4283-9382-a966fc5b047e"
   },
   "outputs": [
    {
     "name": "stdout",
     "output_type": "stream",
     "text": [
      "Downloading https://github.com/ultralytics/assets/releases/download/v0.0.0/yolov8x-pose.pt to 'yolov8x-pose.pt'...\n"
     ]
    },
    {
     "name": "stderr",
     "output_type": "stream",
     "text": [
      "100%|██████████| 133M/133M [00:00<00:00, 246MB/s]\n"
     ]
    },
    {
     "ename": "KeyboardInterrupt",
     "evalue": "ignored",
     "output_type": "error",
     "traceback": [
      "\u001b[0;31m---------------------------------------------------------------------------\u001b[0m",
      "\u001b[0;31mKeyboardInterrupt\u001b[0m                         Traceback (most recent call last)",
      "\u001b[0;32m<ipython-input-6-01452b786e08>\u001b[0m in \u001b[0;36m<cell line: 2>\u001b[0;34m()\u001b[0m\n\u001b[1;32m      1\u001b[0m \u001b[0;31m# pretrained model 불러오기\u001b[0m\u001b[0;34m\u001b[0m\u001b[0;34m\u001b[0m\u001b[0m\n\u001b[0;32m----> 2\u001b[0;31m \u001b[0mmodel\u001b[0m \u001b[0;34m=\u001b[0m \u001b[0multralytics\u001b[0m\u001b[0;34m.\u001b[0m\u001b[0mYOLO\u001b[0m\u001b[0;34m(\u001b[0m\u001b[0mmodel\u001b[0m\u001b[0;34m=\u001b[0m\u001b[0;34m'yolov8x-pose.pt'\u001b[0m\u001b[0;34m)\u001b[0m\u001b[0;34m\u001b[0m\u001b[0;34m\u001b[0m\u001b[0m\n\u001b[0m",
      "\u001b[0;32m/usr/local/lib/python3.10/dist-packages/ultralytics/engine/model.py\u001b[0m in \u001b[0;36m__init__\u001b[0;34m(self, model, task)\u001b[0m\n\u001b[1;32m     92\u001b[0m             \u001b[0mself\u001b[0m\u001b[0;34m.\u001b[0m\u001b[0m_new\u001b[0m\u001b[0;34m(\u001b[0m\u001b[0mmodel\u001b[0m\u001b[0;34m,\u001b[0m \u001b[0mtask\u001b[0m\u001b[0;34m)\u001b[0m\u001b[0;34m\u001b[0m\u001b[0;34m\u001b[0m\u001b[0m\n\u001b[1;32m     93\u001b[0m         \u001b[0;32melse\u001b[0m\u001b[0;34m:\u001b[0m\u001b[0;34m\u001b[0m\u001b[0;34m\u001b[0m\u001b[0m\n\u001b[0;32m---> 94\u001b[0;31m             \u001b[0mself\u001b[0m\u001b[0;34m.\u001b[0m\u001b[0m_load\u001b[0m\u001b[0;34m(\u001b[0m\u001b[0mmodel\u001b[0m\u001b[0;34m,\u001b[0m \u001b[0mtask\u001b[0m\u001b[0;34m)\u001b[0m\u001b[0;34m\u001b[0m\u001b[0;34m\u001b[0m\u001b[0m\n\u001b[0m\u001b[1;32m     95\u001b[0m \u001b[0;34m\u001b[0m\u001b[0m\n\u001b[1;32m     96\u001b[0m     \u001b[0;32mdef\u001b[0m \u001b[0m__call__\u001b[0m\u001b[0;34m(\u001b[0m\u001b[0mself\u001b[0m\u001b[0;34m,\u001b[0m \u001b[0msource\u001b[0m\u001b[0;34m=\u001b[0m\u001b[0;32mNone\u001b[0m\u001b[0;34m,\u001b[0m \u001b[0mstream\u001b[0m\u001b[0;34m=\u001b[0m\u001b[0;32mFalse\u001b[0m\u001b[0;34m,\u001b[0m \u001b[0;34m**\u001b[0m\u001b[0mkwargs\u001b[0m\u001b[0;34m)\u001b[0m\u001b[0;34m:\u001b[0m\u001b[0;34m\u001b[0m\u001b[0;34m\u001b[0m\u001b[0m\n",
      "\u001b[0;32m/usr/local/lib/python3.10/dist-packages/ultralytics/engine/model.py\u001b[0m in \u001b[0;36m_load\u001b[0;34m(self, weights, task)\u001b[0m\n\u001b[1;32m    144\u001b[0m         \u001b[0msuffix\u001b[0m \u001b[0;34m=\u001b[0m \u001b[0mPath\u001b[0m\u001b[0;34m(\u001b[0m\u001b[0mweights\u001b[0m\u001b[0;34m)\u001b[0m\u001b[0;34m.\u001b[0m\u001b[0msuffix\u001b[0m\u001b[0;34m\u001b[0m\u001b[0;34m\u001b[0m\u001b[0m\n\u001b[1;32m    145\u001b[0m         \u001b[0;32mif\u001b[0m \u001b[0msuffix\u001b[0m \u001b[0;34m==\u001b[0m \u001b[0;34m'.pt'\u001b[0m\u001b[0;34m:\u001b[0m\u001b[0;34m\u001b[0m\u001b[0;34m\u001b[0m\u001b[0m\n\u001b[0;32m--> 146\u001b[0;31m             \u001b[0mself\u001b[0m\u001b[0;34m.\u001b[0m\u001b[0mmodel\u001b[0m\u001b[0;34m,\u001b[0m \u001b[0mself\u001b[0m\u001b[0;34m.\u001b[0m\u001b[0mckpt\u001b[0m \u001b[0;34m=\u001b[0m \u001b[0mattempt_load_one_weight\u001b[0m\u001b[0;34m(\u001b[0m\u001b[0mweights\u001b[0m\u001b[0;34m)\u001b[0m\u001b[0;34m\u001b[0m\u001b[0;34m\u001b[0m\u001b[0m\n\u001b[0m\u001b[1;32m    147\u001b[0m             \u001b[0mself\u001b[0m\u001b[0;34m.\u001b[0m\u001b[0mtask\u001b[0m \u001b[0;34m=\u001b[0m \u001b[0mself\u001b[0m\u001b[0;34m.\u001b[0m\u001b[0mmodel\u001b[0m\u001b[0;34m.\u001b[0m\u001b[0margs\u001b[0m\u001b[0;34m[\u001b[0m\u001b[0;34m'task'\u001b[0m\u001b[0;34m]\u001b[0m\u001b[0;34m\u001b[0m\u001b[0;34m\u001b[0m\u001b[0m\n\u001b[1;32m    148\u001b[0m             \u001b[0mself\u001b[0m\u001b[0;34m.\u001b[0m\u001b[0moverrides\u001b[0m \u001b[0;34m=\u001b[0m \u001b[0mself\u001b[0m\u001b[0;34m.\u001b[0m\u001b[0mmodel\u001b[0m\u001b[0;34m.\u001b[0m\u001b[0margs\u001b[0m \u001b[0;34m=\u001b[0m \u001b[0mself\u001b[0m\u001b[0;34m.\u001b[0m\u001b[0m_reset_ckpt_args\u001b[0m\u001b[0;34m(\u001b[0m\u001b[0mself\u001b[0m\u001b[0;34m.\u001b[0m\u001b[0mmodel\u001b[0m\u001b[0;34m.\u001b[0m\u001b[0margs\u001b[0m\u001b[0;34m)\u001b[0m\u001b[0;34m\u001b[0m\u001b[0;34m\u001b[0m\u001b[0m\n",
      "\u001b[0;32m/usr/local/lib/python3.10/dist-packages/ultralytics/nn/tasks.py\u001b[0m in \u001b[0;36mattempt_load_one_weight\u001b[0;34m(weight, device, inplace, fuse)\u001b[0m\n\u001b[1;32m    626\u001b[0m \u001b[0;32mdef\u001b[0m \u001b[0mattempt_load_one_weight\u001b[0m\u001b[0;34m(\u001b[0m\u001b[0mweight\u001b[0m\u001b[0;34m,\u001b[0m \u001b[0mdevice\u001b[0m\u001b[0;34m=\u001b[0m\u001b[0;32mNone\u001b[0m\u001b[0;34m,\u001b[0m \u001b[0minplace\u001b[0m\u001b[0;34m=\u001b[0m\u001b[0;32mTrue\u001b[0m\u001b[0;34m,\u001b[0m \u001b[0mfuse\u001b[0m\u001b[0;34m=\u001b[0m\u001b[0;32mFalse\u001b[0m\u001b[0;34m)\u001b[0m\u001b[0;34m:\u001b[0m\u001b[0;34m\u001b[0m\u001b[0;34m\u001b[0m\u001b[0m\n\u001b[1;32m    627\u001b[0m     \u001b[0;34m\"\"\"Loads a single model weights.\"\"\"\u001b[0m\u001b[0;34m\u001b[0m\u001b[0;34m\u001b[0m\u001b[0m\n\u001b[0;32m--> 628\u001b[0;31m     \u001b[0mckpt\u001b[0m\u001b[0;34m,\u001b[0m \u001b[0mweight\u001b[0m \u001b[0;34m=\u001b[0m \u001b[0mtorch_safe_load\u001b[0m\u001b[0;34m(\u001b[0m\u001b[0mweight\u001b[0m\u001b[0;34m)\u001b[0m  \u001b[0;31m# load ckpt\u001b[0m\u001b[0;34m\u001b[0m\u001b[0;34m\u001b[0m\u001b[0m\n\u001b[0m\u001b[1;32m    629\u001b[0m     \u001b[0margs\u001b[0m \u001b[0;34m=\u001b[0m \u001b[0;34m{\u001b[0m\u001b[0;34m**\u001b[0m\u001b[0mDEFAULT_CFG_DICT\u001b[0m\u001b[0;34m,\u001b[0m \u001b[0;34m**\u001b[0m\u001b[0;34m(\u001b[0m\u001b[0mckpt\u001b[0m\u001b[0;34m.\u001b[0m\u001b[0mget\u001b[0m\u001b[0;34m(\u001b[0m\u001b[0;34m'train_args'\u001b[0m\u001b[0;34m,\u001b[0m \u001b[0;34m{\u001b[0m\u001b[0;34m}\u001b[0m\u001b[0;34m)\u001b[0m\u001b[0;34m)\u001b[0m\u001b[0;34m}\u001b[0m  \u001b[0;31m# combine model and default args, preferring model args\u001b[0m\u001b[0;34m\u001b[0m\u001b[0;34m\u001b[0m\u001b[0m\n\u001b[1;32m    630\u001b[0m     \u001b[0mmodel\u001b[0m \u001b[0;34m=\u001b[0m \u001b[0;34m(\u001b[0m\u001b[0mckpt\u001b[0m\u001b[0;34m.\u001b[0m\u001b[0mget\u001b[0m\u001b[0;34m(\u001b[0m\u001b[0;34m'ema'\u001b[0m\u001b[0;34m)\u001b[0m \u001b[0;32mor\u001b[0m \u001b[0mckpt\u001b[0m\u001b[0;34m[\u001b[0m\u001b[0;34m'model'\u001b[0m\u001b[0;34m]\u001b[0m\u001b[0;34m)\u001b[0m\u001b[0;34m.\u001b[0m\u001b[0mto\u001b[0m\u001b[0;34m(\u001b[0m\u001b[0mdevice\u001b[0m\u001b[0;34m)\u001b[0m\u001b[0;34m.\u001b[0m\u001b[0mfloat\u001b[0m\u001b[0;34m(\u001b[0m\u001b[0;34m)\u001b[0m  \u001b[0;31m# FP32 model\u001b[0m\u001b[0;34m\u001b[0m\u001b[0;34m\u001b[0m\u001b[0m\n",
      "\u001b[0;32m/usr/local/lib/python3.10/dist-packages/ultralytics/nn/tasks.py\u001b[0m in \u001b[0;36mtorch_safe_load\u001b[0;34m(weight)\u001b[0m\n\u001b[1;32m    565\u001b[0m                 \u001b[0;34m'ultralytics.yolo.v8'\u001b[0m\u001b[0;34m:\u001b[0m \u001b[0;34m'ultralytics.models.yolo'\u001b[0m\u001b[0;34m,\u001b[0m\u001b[0;34m\u001b[0m\u001b[0;34m\u001b[0m\u001b[0m\n\u001b[1;32m    566\u001b[0m                 'ultralytics.yolo.data': 'ultralytics.data'}):  # for legacy 8.0 Classify and Pose models\n\u001b[0;32m--> 567\u001b[0;31m             \u001b[0;32mreturn\u001b[0m \u001b[0mtorch\u001b[0m\u001b[0;34m.\u001b[0m\u001b[0mload\u001b[0m\u001b[0;34m(\u001b[0m\u001b[0mfile\u001b[0m\u001b[0;34m,\u001b[0m \u001b[0mmap_location\u001b[0m\u001b[0;34m=\u001b[0m\u001b[0;34m'cpu'\u001b[0m\u001b[0;34m)\u001b[0m\u001b[0;34m,\u001b[0m \u001b[0mfile\u001b[0m  \u001b[0;31m# load\u001b[0m\u001b[0;34m\u001b[0m\u001b[0;34m\u001b[0m\u001b[0m\n\u001b[0m\u001b[1;32m    568\u001b[0m \u001b[0;34m\u001b[0m\u001b[0m\n\u001b[1;32m    569\u001b[0m     \u001b[0;32mexcept\u001b[0m \u001b[0mModuleNotFoundError\u001b[0m \u001b[0;32mas\u001b[0m \u001b[0me\u001b[0m\u001b[0;34m:\u001b[0m  \u001b[0;31m# e.name is missing module name\u001b[0m\u001b[0;34m\u001b[0m\u001b[0;34m\u001b[0m\u001b[0m\n",
      "\u001b[0;32m/usr/local/lib/python3.10/dist-packages/torch/serialization.py\u001b[0m in \u001b[0;36mload\u001b[0;34m(f, map_location, pickle_module, weights_only, mmap, **pickle_load_args)\u001b[0m\n\u001b[1;32m   1012\u001b[0m                     \u001b[0;32mexcept\u001b[0m \u001b[0mRuntimeError\u001b[0m \u001b[0;32mas\u001b[0m \u001b[0me\u001b[0m\u001b[0;34m:\u001b[0m\u001b[0;34m\u001b[0m\u001b[0;34m\u001b[0m\u001b[0m\n\u001b[1;32m   1013\u001b[0m                         \u001b[0;32mraise\u001b[0m \u001b[0mpickle\u001b[0m\u001b[0;34m.\u001b[0m\u001b[0mUnpicklingError\u001b[0m\u001b[0;34m(\u001b[0m\u001b[0mUNSAFE_MESSAGE\u001b[0m \u001b[0;34m+\u001b[0m \u001b[0mstr\u001b[0m\u001b[0;34m(\u001b[0m\u001b[0me\u001b[0m\u001b[0;34m)\u001b[0m\u001b[0;34m)\u001b[0m \u001b[0;32mfrom\u001b[0m \u001b[0;32mNone\u001b[0m\u001b[0;34m\u001b[0m\u001b[0;34m\u001b[0m\u001b[0m\n\u001b[0;32m-> 1014\u001b[0;31m                 return _load(opened_zipfile,\n\u001b[0m\u001b[1;32m   1015\u001b[0m                              \u001b[0mmap_location\u001b[0m\u001b[0;34m,\u001b[0m\u001b[0;34m\u001b[0m\u001b[0;34m\u001b[0m\u001b[0m\n\u001b[1;32m   1016\u001b[0m                              \u001b[0mpickle_module\u001b[0m\u001b[0;34m,\u001b[0m\u001b[0;34m\u001b[0m\u001b[0;34m\u001b[0m\u001b[0m\n",
      "\u001b[0;32m/usr/local/lib/python3.10/dist-packages/torch/serialization.py\u001b[0m in \u001b[0;36m_load\u001b[0;34m(zip_file, map_location, pickle_module, pickle_file, overall_storage, **pickle_load_args)\u001b[0m\n\u001b[1;32m   1420\u001b[0m     \u001b[0munpickler\u001b[0m \u001b[0;34m=\u001b[0m \u001b[0mUnpicklerWrapper\u001b[0m\u001b[0;34m(\u001b[0m\u001b[0mdata_file\u001b[0m\u001b[0;34m,\u001b[0m \u001b[0;34m**\u001b[0m\u001b[0mpickle_load_args\u001b[0m\u001b[0;34m)\u001b[0m\u001b[0;34m\u001b[0m\u001b[0;34m\u001b[0m\u001b[0m\n\u001b[1;32m   1421\u001b[0m     \u001b[0munpickler\u001b[0m\u001b[0;34m.\u001b[0m\u001b[0mpersistent_load\u001b[0m \u001b[0;34m=\u001b[0m \u001b[0mpersistent_load\u001b[0m\u001b[0;34m\u001b[0m\u001b[0;34m\u001b[0m\u001b[0m\n\u001b[0;32m-> 1422\u001b[0;31m     \u001b[0mresult\u001b[0m \u001b[0;34m=\u001b[0m \u001b[0munpickler\u001b[0m\u001b[0;34m.\u001b[0m\u001b[0mload\u001b[0m\u001b[0;34m(\u001b[0m\u001b[0;34m)\u001b[0m\u001b[0;34m\u001b[0m\u001b[0;34m\u001b[0m\u001b[0m\n\u001b[0m\u001b[1;32m   1423\u001b[0m \u001b[0;34m\u001b[0m\u001b[0m\n\u001b[1;32m   1424\u001b[0m     \u001b[0mtorch\u001b[0m\u001b[0;34m.\u001b[0m\u001b[0m_utils\u001b[0m\u001b[0;34m.\u001b[0m\u001b[0m_validate_loaded_sparse_tensors\u001b[0m\u001b[0;34m(\u001b[0m\u001b[0;34m)\u001b[0m\u001b[0;34m\u001b[0m\u001b[0;34m\u001b[0m\u001b[0m\n",
      "\u001b[0;32m/usr/local/lib/python3.10/dist-packages/torch/serialization.py\u001b[0m in \u001b[0;36mpersistent_load\u001b[0;34m(saved_id)\u001b[0m\n\u001b[1;32m   1390\u001b[0m         \u001b[0;32melse\u001b[0m\u001b[0;34m:\u001b[0m\u001b[0;34m\u001b[0m\u001b[0;34m\u001b[0m\u001b[0m\n\u001b[1;32m   1391\u001b[0m             \u001b[0mnbytes\u001b[0m \u001b[0;34m=\u001b[0m \u001b[0mnumel\u001b[0m \u001b[0;34m*\u001b[0m \u001b[0mtorch\u001b[0m\u001b[0;34m.\u001b[0m\u001b[0m_utils\u001b[0m\u001b[0;34m.\u001b[0m\u001b[0m_element_size\u001b[0m\u001b[0;34m(\u001b[0m\u001b[0mdtype\u001b[0m\u001b[0;34m)\u001b[0m\u001b[0;34m\u001b[0m\u001b[0;34m\u001b[0m\u001b[0m\n\u001b[0;32m-> 1392\u001b[0;31m             \u001b[0mtyped_storage\u001b[0m \u001b[0;34m=\u001b[0m \u001b[0mload_tensor\u001b[0m\u001b[0;34m(\u001b[0m\u001b[0mdtype\u001b[0m\u001b[0;34m,\u001b[0m \u001b[0mnbytes\u001b[0m\u001b[0;34m,\u001b[0m \u001b[0mkey\u001b[0m\u001b[0;34m,\u001b[0m \u001b[0m_maybe_decode_ascii\u001b[0m\u001b[0;34m(\u001b[0m\u001b[0mlocation\u001b[0m\u001b[0;34m)\u001b[0m\u001b[0;34m)\u001b[0m\u001b[0;34m\u001b[0m\u001b[0;34m\u001b[0m\u001b[0m\n\u001b[0m\u001b[1;32m   1393\u001b[0m \u001b[0;34m\u001b[0m\u001b[0m\n\u001b[1;32m   1394\u001b[0m         \u001b[0;32mreturn\u001b[0m \u001b[0mtyped_storage\u001b[0m\u001b[0;34m\u001b[0m\u001b[0;34m\u001b[0m\u001b[0m\n",
      "\u001b[0;32m/usr/local/lib/python3.10/dist-packages/torch/serialization.py\u001b[0m in \u001b[0;36mload_tensor\u001b[0;34m(dtype, numel, key, location)\u001b[0m\n\u001b[1;32m   1355\u001b[0m             \u001b[0mstorage\u001b[0m \u001b[0;34m=\u001b[0m \u001b[0moverall_storage\u001b[0m\u001b[0;34m[\u001b[0m\u001b[0mstorage_offset\u001b[0m\u001b[0;34m:\u001b[0m\u001b[0mstorage_offset\u001b[0m \u001b[0;34m+\u001b[0m \u001b[0mnumel\u001b[0m\u001b[0;34m]\u001b[0m\u001b[0;34m\u001b[0m\u001b[0;34m\u001b[0m\u001b[0m\n\u001b[1;32m   1356\u001b[0m         \u001b[0;32melse\u001b[0m\u001b[0;34m:\u001b[0m\u001b[0;34m\u001b[0m\u001b[0;34m\u001b[0m\u001b[0m\n\u001b[0;32m-> 1357\u001b[0;31m             \u001b[0mstorage\u001b[0m \u001b[0;34m=\u001b[0m \u001b[0mzip_file\u001b[0m\u001b[0;34m.\u001b[0m\u001b[0mget_storage_from_record\u001b[0m\u001b[0;34m(\u001b[0m\u001b[0mname\u001b[0m\u001b[0;34m,\u001b[0m \u001b[0mnumel\u001b[0m\u001b[0;34m,\u001b[0m \u001b[0mtorch\u001b[0m\u001b[0;34m.\u001b[0m\u001b[0mUntypedStorage\u001b[0m\u001b[0;34m)\u001b[0m\u001b[0;34m.\u001b[0m\u001b[0m_typed_storage\u001b[0m\u001b[0;34m(\u001b[0m\u001b[0;34m)\u001b[0m\u001b[0;34m.\u001b[0m\u001b[0m_untyped_storage\u001b[0m\u001b[0;34m\u001b[0m\u001b[0;34m\u001b[0m\u001b[0m\n\u001b[0m\u001b[1;32m   1358\u001b[0m         \u001b[0;31m# swap here if byteswapping is needed\u001b[0m\u001b[0;34m\u001b[0m\u001b[0;34m\u001b[0m\u001b[0m\n\u001b[1;32m   1359\u001b[0m         \u001b[0;32mif\u001b[0m \u001b[0mbyteorderdata\u001b[0m \u001b[0;32mis\u001b[0m \u001b[0;32mnot\u001b[0m \u001b[0;32mNone\u001b[0m\u001b[0;34m:\u001b[0m\u001b[0;34m\u001b[0m\u001b[0;34m\u001b[0m\u001b[0m\n",
      "\u001b[0;31mKeyboardInterrupt\u001b[0m: "
     ]
    }
   ],
   "source": [
    "# pretrained model 불러오기\n",
    "model = ultralytics.YOLO(model='yolov8x-pose.pt')"
   ]
  },
  {
   "cell_type": "code",
   "execution_count": null,
   "metadata": {
    "executionInfo": {
     "elapsed": 5,
     "status": "aborted",
     "timestamp": 1701048575586,
     "user": {
      "displayName": "이신철",
      "userId": "00953967863074202792"
     },
     "user_tz": -540
    },
    "id": "t4i3qb9cSkbs"
   },
   "outputs": [],
   "source": [
    "# 임의의 이미지를 가지고 keypoint, box의 좌표 추출\n",
    "image = cv2.imread('/content/drive/MyDrive/miniproject/yoga-pose-classification/YogaPoses/Plank/00000006.jpg')\n",
    "result = model.predict(image, save=True)[0]\n",
    "result_keypoint = result.keypoints.xyn.cpu().numpy()[0]\n",
    "result.boxes.xyxy"
   ]
  },
  {
   "cell_type": "code",
   "execution_count": null,
   "metadata": {
    "executionInfo": {
     "elapsed": 5,
     "status": "aborted",
     "timestamp": 1701048575586,
     "user": {
      "displayName": "이신철",
      "userId": "00953967863074202792"
     },
     "user_tz": -540
    },
    "id": "cHoa3XQ0SlKh"
   },
   "outputs": [],
   "source": [
    "# keypoint 값 확인 [17, 2]\n",
    "result.keypoints[0]"
   ]
  },
  {
   "cell_type": "code",
   "execution_count": null,
   "metadata": {
    "executionInfo": {
     "elapsed": 5,
     "status": "aborted",
     "timestamp": 1701048575586,
     "user": {
      "displayName": "이신철",
      "userId": "00953967863074202792"
     },
     "user_tz": -540
    },
    "id": "GIDIrpv5SlWq"
   },
   "outputs": [],
   "source": [
    "# 결과값\n",
    "Image.fromarray(cv2.cvtColor(result.plot(), cv2.COLOR_BGR2RGB))"
   ]
  },
  {
   "cell_type": "markdown",
   "metadata": {
    "id": "hg0k-Y1qZguN"
   },
   "source": [
    "# Generate Dataset\n",
    "- Keypoint 추출"
   ]
  },
  {
   "cell_type": "code",
   "execution_count": null,
   "metadata": {
    "executionInfo": {
     "elapsed": 6,
     "status": "aborted",
     "timestamp": 1701048575587,
     "user": {
      "displayName": "이신철",
      "userId": "00953967863074202792"
     },
     "user_tz": -540
    },
    "id": "kpUARjGjSlbq"
   },
   "outputs": [],
   "source": [
    "# Keypoint 함수 선언 ex) 0 -> Nose\n",
    "class GetKeypoint(BaseModel):\n",
    "    NOSE:           int = 0\n",
    "    LEFT_EYE:       int = 1\n",
    "    RIGHT_EYE:      int = 2\n",
    "    LEFT_EAR:       int = 3\n",
    "    RIGHT_EAR:      int = 4\n",
    "    LEFT_SHOULDER:  int = 5\n",
    "    RIGHT_SHOULDER: int = 6\n",
    "    LEFT_ELBOW:     int = 7\n",
    "    RIGHT_ELBOW:    int = 8\n",
    "    LEFT_WRIST:     int = 9\n",
    "    RIGHT_WRIST:    int = 10\n",
    "    LEFT_HIP:       int = 11\n",
    "    RIGHT_HIP:      int = 12\n",
    "    LEFT_KNEE:      int = 13\n",
    "    RIGHT_KNEE:     int = 14\n",
    "    LEFT_ANKLE:     int = 15\n",
    "    RIGHT_ANKLE:    int = 16\n",
    "\n",
    "get_keypoint = GetKeypoint()"
   ]
  },
  {
   "cell_type": "code",
   "execution_count": null,
   "metadata": {
    "executionInfo": {
     "elapsed": 5,
     "status": "aborted",
     "timestamp": 1701048575587,
     "user": {
      "displayName": "이신철",
      "userId": "00953967863074202792"
     },
     "user_tz": -540
    },
    "id": "VO3BtyhbSlew"
   },
   "outputs": [],
   "source": [
    "# import\n",
    "import os\n",
    "import glob"
   ]
  },
  {
   "cell_type": "code",
   "execution_count": null,
   "metadata": {
    "executionInfo": {
     "elapsed": 5,
     "status": "aborted",
     "timestamp": 1701048575587,
     "user": {
      "displayName": "이신철",
      "userId": "00953967863074202792"
     },
     "user_tz": -540
    },
    "id": "1u7uEXTaSlhC"
   },
   "outputs": [],
   "source": [
    "# Dataset 경로 설정, labels 값 확인\n",
    "dataset_root = '/content/drive/MyDrive/miniproject/yoga-pose-classification/YogaPoses'\n",
    "pose_list = os.listdir(dataset_root)\n",
    "pose_list"
   ]
  },
  {
   "cell_type": "code",
   "execution_count": null,
   "metadata": {
    "executionInfo": {
     "elapsed": 5,
     "status": "aborted",
     "timestamp": 1701048575587,
     "user": {
      "displayName": "이신철",
      "userId": "00953967863074202792"
     },
     "user_tz": -540
    },
    "id": "zLHs_m0IZj7s"
   },
   "outputs": [],
   "source": [
    "# Keypoint 추출 함수 선언\n",
    "def extract_keypoint(keypoint):\n",
    "    # nose\n",
    "    nose_x, nose_y = keypoint[get_keypoint.NOSE]\n",
    "    # eye\n",
    "    left_eye_x, left_eye_y = keypoint[get_keypoint.LEFT_EYE]\n",
    "    right_eye_x, right_eye_y = keypoint[get_keypoint.RIGHT_EYE]\n",
    "    # ear\n",
    "    left_ear_x, left_ear_y = keypoint[get_keypoint.LEFT_EAR]\n",
    "    right_ear_x, right_ear_y = keypoint[get_keypoint.RIGHT_EAR]\n",
    "    # shoulder\n",
    "    left_shoulder_x, left_shoulder_y = keypoint[get_keypoint.LEFT_SHOULDER]\n",
    "    right_shoulder_x, right_shoulder_y = keypoint[get_keypoint.RIGHT_SHOULDER]\n",
    "    # elbow\n",
    "    left_elbow_x, left_elbow_y = keypoint[get_keypoint.LEFT_ELBOW]\n",
    "    right_elbow_x, right_elbow_y = keypoint[get_keypoint.RIGHT_ELBOW]\n",
    "    # wrist\n",
    "    left_wrist_x, left_wrist_y = keypoint[get_keypoint.LEFT_WRIST]\n",
    "    right_wrist_x, right_wrist_y = keypoint[get_keypoint.RIGHT_WRIST]\n",
    "    # hip\n",
    "    left_hip_x, left_hip_y = keypoint[get_keypoint.LEFT_HIP]\n",
    "    right_hip_x, right_hip_y = keypoint[get_keypoint.RIGHT_HIP]\n",
    "    # knee\n",
    "    left_knee_x, left_knee_y = keypoint[get_keypoint.LEFT_KNEE]\n",
    "    right_knee_x, right_knee_y = keypoint[get_keypoint.RIGHT_KNEE]\n",
    "    # ankle\n",
    "    left_ankle_x, left_ankle_y = keypoint[get_keypoint.LEFT_ANKLE]\n",
    "    right_ankle_x, right_ankle_y = keypoint[get_keypoint.RIGHT_ANKLE]\n",
    "\n",
    "    return [\n",
    "        nose_x, nose_y,\n",
    "        left_eye_x, left_eye_y,\n",
    "        right_eye_x, right_eye_y,\n",
    "        left_ear_x, left_ear_y,\n",
    "        right_ear_x, right_ear_y,\n",
    "        left_shoulder_x, left_shoulder_y,\n",
    "        right_shoulder_x, right_shoulder_y,\n",
    "        left_elbow_x, left_elbow_y,\n",
    "        right_elbow_x, right_elbow_y,\n",
    "        left_wrist_x, left_wrist_y,\n",
    "        right_wrist_x, right_wrist_y,\n",
    "        left_hip_x, left_hip_y,\n",
    "        right_hip_x, right_hip_y,\n",
    "        left_knee_x, left_knee_y,\n",
    "        right_knee_x, right_knee_y,\n",
    "        left_ankle_x, left_ankle_y,\n",
    "        right_ankle_x, right_ankle_y\n",
    "    ]"
   ]
  },
  {
   "cell_type": "markdown",
   "metadata": {
    "id": "vIcWI2mTagKt"
   },
   "source": [
    "# Run image"
   ]
  },
  {
   "cell_type": "code",
   "execution_count": null,
   "metadata": {
    "executionInfo": {
     "elapsed": 5,
     "status": "aborted",
     "timestamp": 1701048575587,
     "user": {
      "displayName": "이신철",
      "userId": "00953967863074202792"
     },
     "user_tz": -540
    },
    "id": "kYFJ26vaZj29"
   },
   "outputs": [],
   "source": [
    "dataset_csv = []\n",
    "for pose in pose_list:\n",
    "    image_path_list = glob.glob(f'{dataset_root}/{pose}/*.jpg')\n",
    "    for image_path in image_path_list:\n",
    "        # get image_name\n",
    "        image_name = image_path.split('/')[-1]\n",
    "        # read numpy image\n",
    "        image = cv2.imread(image_path)\n",
    "        # get height width image\n",
    "        height, width = image.shape[:2]\n",
    "\n",
    "        # detect pose using yolov8-pose\n",
    "        results = model.predict(image, save=False)[0]\n",
    "        results_keypoint = results.keypoints.xyn.cpu().numpy()\n",
    "        for result_keypoint in results_keypoint:\n",
    "            if len(result_keypoint) == 17:\n",
    "                keypoint_list = extract_keypoint(result_keypoint)\n",
    "\n",
    "                # inset image_name, labe] in index 0,1\n",
    "                keypoint_list.insert(0, image_name)\n",
    "                keypoint_list.insert(1, pose)\n",
    "                dataset_csv.append(keypoint_list)\n",
    "        # break\n",
    "    # break"
   ]
  },
  {
   "cell_type": "code",
   "execution_count": null,
   "metadata": {
    "executionInfo": {
     "elapsed": 5,
     "status": "aborted",
     "timestamp": 1701048575587,
     "user": {
      "displayName": "이신철",
      "userId": "00953967863074202792"
     },
     "user_tz": -540
    },
    "id": "5YeKtA8AZj08"
   },
   "outputs": [],
   "source": [
    "import csv\n",
    "# write csv\n",
    "header = [\n",
    "    'image_name',\n",
    "    'label',\n",
    "    # nose\n",
    "    'nose_x',\n",
    "    'nose_y',\n",
    "    # left eye\n",
    "    'left_eye_x',\n",
    "    'left_eye_y',\n",
    "    # right eye\n",
    "    'right_eye_x',\n",
    "    'right_eye_y',\n",
    "    # left ear\n",
    "    'left_ear_x',\n",
    "    'left_ear_y',\n",
    "    # right ear\n",
    "    'right_ear_x',\n",
    "    'right_ear_y',\n",
    "    # left shoulder\n",
    "    'left_shoulder_x',\n",
    "    'left_shoulder_y',\n",
    "    # right sholder\n",
    "    'right_shoulder_x',\n",
    "    'right_shoulder_y',\n",
    "    # left elbow\n",
    "    'left_elbow_x',\n",
    "    'left_elbow_y',\n",
    "    # rigth elbow\n",
    "    'right_elbow_x',\n",
    "    'right_elbow_y',\n",
    "    # left wrist\n",
    "    'left_wrist_x',\n",
    "    'left_wrist_y',\n",
    "    # right wrist\n",
    "    'right_wrist_x',\n",
    "    'right_wrist_y',\n",
    "    # left hip\n",
    "    'left_hip_x',\n",
    "    'left_hip_y',\n",
    "    # right hip\n",
    "    'right_hip_x',\n",
    "    'right_hip_y',\n",
    "    # left knee\n",
    "    'left_knee_x',\n",
    "    'left_knee_y',\n",
    "    # right knee\n",
    "    'right_knee_x',\n",
    "    'right_knee_y',\n",
    "    # left ankle\n",
    "    'left_ankle_x',\n",
    "    'left_ankle_y',\n",
    "    # right ankle\n",
    "    'right_ankle_x',\n",
    "    'right_ankle_y'\n",
    "]\n",
    "\n",
    "with open('yoga_pose_keypoint.csv', 'w', encoding='UTF8', newline='') as f:\n",
    "    writer = csv.writer(f)\n",
    "\n",
    "    # write the header\n",
    "    writer.writerow(header)\n",
    "\n",
    "    # write multiple rows\n",
    "    writer.writerows(dataset_csv)"
   ]
  },
  {
   "cell_type": "markdown",
   "metadata": {
    "id": "6F0-WwLVby69"
   },
   "source": [
    "# Write Dataset"
   ]
  },
  {
   "cell_type": "code",
   "execution_count": null,
   "metadata": {
    "executionInfo": {
     "elapsed": 5,
     "status": "aborted",
     "timestamp": 1701048575587,
     "user": {
      "displayName": "이신철",
      "userId": "00953967863074202792"
     },
     "user_tz": -540
    },
    "id": "cabqw0TeZjwM"
   },
   "outputs": [],
   "source": [
    "# Dataframe 정보 확인, image_name col 삭제\n",
    "import pandas as pd\n",
    "\n",
    "df = pd.read_csv('yoga_pose_keypoint.csv')\n",
    "df = df.drop('image_name', axis=1)\n",
    "df.head()"
   ]
  },
  {
   "cell_type": "code",
   "execution_count": null,
   "metadata": {
    "executionInfo": {
     "elapsed": 30111,
     "status": "aborted",
     "timestamp": 1701048575588,
     "user": {
      "displayName": "이신철",
      "userId": "00953967863074202792"
     },
     "user_tz": -540
    },
    "id": "mg27LcRCZjt8"
   },
   "outputs": [],
   "source": []
  },
  {
   "cell_type": "code",
   "execution_count": null,
   "metadata": {
    "executionInfo": {
     "elapsed": 30109,
     "status": "aborted",
     "timestamp": 1701048575589,
     "user": {
      "displayName": "이신철",
      "userId": "00953967863074202792"
     },
     "user_tz": -540
    },
    "id": "TQObYjxGZjrV"
   },
   "outputs": [],
   "source": [
    "# import\n",
    "import numpy as np\n",
    "import pandas as pd\n",
    "from tqdm import tqdm\n",
    "import matplotlib.pyplot as plt\n",
    "\n",
    "from sklearn.preprocessing import LabelEncoder, MinMaxScaler\n",
    "from sklearn.utils.class_weight import compute_class_weight\n",
    "from sklearn.model_selection import train_test_split\n",
    "from sklearn.metrics import classification_report, confusion_matrix\n",
    "\n",
    "import torch\n",
    "from torch import nn\n",
    "from torch.utils.data import Dataset, DataLoader, SubsetRandomSampler\n",
    "\n",
    "device = torch.device(\"cuda\" if torch.cuda.is_available() else \"cpu\")\n",
    "device"
   ]
  },
  {
   "cell_type": "code",
   "execution_count": null,
   "metadata": {
    "executionInfo": {
     "elapsed": 30109,
     "status": "aborted",
     "timestamp": 1701048575589,
     "user": {
      "displayName": "이신철",
      "userId": "00953967863074202792"
     },
     "user_tz": -540
    },
    "id": "M7vbonObZjo9"
   },
   "outputs": [],
   "source": []
  },
  {
   "cell_type": "markdown",
   "metadata": {
    "id": "Y40iwJVBcVyE"
   },
   "source": [
    "# Read Dataset"
   ]
  },
  {
   "cell_type": "code",
   "execution_count": null,
   "metadata": {
    "executionInfo": {
     "elapsed": 30106,
     "status": "aborted",
     "timestamp": 1701048575589,
     "user": {
      "displayName": "이신철",
      "userId": "00953967863074202792"
     },
     "user_tz": -540
    },
    "id": "HrGyIJZscS7C"
   },
   "outputs": [],
   "source": [
    "# 저장한 csv파일 읽기\n",
    "df = pd.read_csv('/content/yoga_pose_keypoint.csv')\n",
    "df.head()"
   ]
  },
  {
   "cell_type": "code",
   "execution_count": null,
   "metadata": {
    "executionInfo": {
     "elapsed": 30104,
     "status": "aborted",
     "timestamp": 1701048575589,
     "user": {
      "displayName": "이신철",
      "userId": "00953967863074202792"
     },
     "user_tz": -540
    },
    "id": "zJpFLLDkcS2x"
   },
   "outputs": [],
   "source": [
    "# DataFrame 정보\n",
    "df.info()"
   ]
  },
  {
   "cell_type": "code",
   "execution_count": null,
   "metadata": {
    "executionInfo": {
     "elapsed": 30101,
     "status": "aborted",
     "timestamp": 1701048575589,
     "user": {
      "displayName": "이신철",
      "userId": "00953967863074202792"
     },
     "user_tz": -540
    },
    "id": "0MJbAymEcS0p"
   },
   "outputs": [],
   "source": [
    "# 각 label의 개수 막대그래프\n",
    "df.label.value_counts().plot(kind=\"bar\")\n",
    "plt.xticks(rotation=45)\n",
    "plt.show()"
   ]
  },
  {
   "cell_type": "markdown",
   "metadata": {
    "id": "P2EkAHQFdu7D"
   },
   "source": [
    "# Train Test Split"
   ]
  },
  {
   "cell_type": "code",
   "execution_count": null,
   "metadata": {
    "executionInfo": {
     "elapsed": 30098,
     "status": "aborted",
     "timestamp": 1701048575589,
     "user": {
      "displayName": "이신철",
      "userId": "00953967863074202792"
     },
     "user_tz": -540
    },
    "id": "MTTi-5KwcSwC"
   },
   "outputs": [],
   "source": [
    "# encoder label\n",
    "# label col의 문자(자세명)들을 숫자로 매핑\n",
    "encoder = LabelEncoder()\n",
    "y_label = df['label']\n",
    "y = encoder.fit_transform(y_label)\n",
    "y"
   ]
  },
  {
   "cell_type": "code",
   "execution_count": null,
   "metadata": {
    "executionInfo": {
     "elapsed": 30095,
     "status": "aborted",
     "timestamp": 1701048575589,
     "user": {
      "displayName": "이신철",
      "userId": "00953967863074202792"
     },
     "user_tz": -540
    },
    "id": "vhzIMLRsdxv6"
   },
   "outputs": [],
   "source": [
    "# 클래스별 가중치 계산\n",
    "class_weights = compute_class_weight(class_weight='balanced', classes=np.unique(y), y=y)\n",
    "class_weights"
   ]
  },
  {
   "cell_type": "code",
   "execution_count": null,
   "metadata": {
    "executionInfo": {
     "elapsed": 30093,
     "status": "aborted",
     "timestamp": 1701048575589,
     "user": {
      "displayName": "이신철",
      "userId": "00953967863074202792"
     },
     "user_tz": -540
    },
    "id": "nR29Jmirdxt5"
   },
   "outputs": [],
   "source": [
    "# Get keypoint dataset\n",
    "# 얼굴 부분 데이터 삭제(요가 자세 측정에는 얼굴부분의 데이터가 필요하지 않다.)\n",
    "X = df.iloc[:,12:]\n",
    "X"
   ]
  },
  {
   "cell_type": "code",
   "execution_count": null,
   "metadata": {
    "executionInfo": {
     "elapsed": 30091,
     "status": "aborted",
     "timestamp": 1701048575589,
     "user": {
      "displayName": "이신철",
      "userId": "00953967863074202792"
     },
     "user_tz": -540
    },
    "id": "4QaSJyiUdxrw"
   },
   "outputs": [],
   "source": [
    "# train test data split\n",
    "X_train, X_test, y_train, y_test = train_test_split(X, y, test_size=0.2, stratify=y, shuffle=True, random_state=33)\n",
    "\n",
    "print(\"Number of Training keypoints: \", len(X_train))\n",
    "print(\"Number of Testing keypoints: \", len(X_test))"
   ]
  },
  {
   "cell_type": "code",
   "execution_count": null,
   "metadata": {
    "executionInfo": {
     "elapsed": 30091,
     "status": "aborted",
     "timestamp": 1701048575590,
     "user": {
      "displayName": "이신철",
      "userId": "00953967863074202792"
     },
     "user_tz": -540
    },
    "id": "rfueYII1dxpy"
   },
   "outputs": [],
   "source": [
    "scaler = MinMaxScaler()"
   ]
  },
  {
   "cell_type": "code",
   "execution_count": null,
   "metadata": {
    "executionInfo": {
     "elapsed": 30089,
     "status": "aborted",
     "timestamp": 1701048575590,
     "user": {
      "displayName": "이신철",
      "userId": "00953967863074202792"
     },
     "user_tz": -540
    },
    "id": "72JveNGVdxnj"
   },
   "outputs": [],
   "source": [
    "X_train = scaler.fit_transform(X_train)\n",
    "X_test = scaler.transform(X_test)\n",
    "X_test"
   ]
  },
  {
   "cell_type": "markdown",
   "metadata": {
    "id": "O4A1KZ_TiCpX"
   },
   "source": [
    "# Data Loader"
   ]
  },
  {
   "cell_type": "code",
   "execution_count": null,
   "metadata": {
    "executionInfo": {
     "elapsed": 30090,
     "status": "aborted",
     "timestamp": 1701048575591,
     "user": {
      "displayName": "이신철",
      "userId": "00953967863074202792"
     },
     "user_tz": -540
    },
    "id": "0HcHlX4mdxi7"
   },
   "outputs": [],
   "source": [
    "class DataKeypointClassification(Dataset):\n",
    "    def __init__(self, X, y):\n",
    "        self.x = torch.from_numpy(X.astype(np.float32))\n",
    "        self.y = torch.from_numpy(y.astype(np.int64))\n",
    "        self.n_samples = X.shape[0]\n",
    "\n",
    "    def __getitem__(self, index):\n",
    "        return self.x[index], self.y[index]\n",
    "\n",
    "    def __len__(self):\n",
    "        return self.n_samples"
   ]
  },
  {
   "cell_type": "code",
   "execution_count": null,
   "metadata": {
    "executionInfo": {
     "elapsed": 30089,
     "status": "aborted",
     "timestamp": 1701048575591,
     "user": {
      "displayName": "이신철",
      "userId": "00953967863074202792"
     },
     "user_tz": -540
    },
    "id": "ndHxqPPQiFUD"
   },
   "outputs": [],
   "source": [
    "train_dataset = DataKeypointClassification(X_train, y_train)\n",
    "test_dataset = DataKeypointClassification(X_test, y_test)"
   ]
  },
  {
   "cell_type": "code",
   "execution_count": null,
   "metadata": {
    "executionInfo": {
     "elapsed": 30089,
     "status": "aborted",
     "timestamp": 1701048575591,
     "user": {
      "displayName": "이신철",
      "userId": "00953967863074202792"
     },
     "user_tz": -540
    },
    "id": "NaFrZuCsiFR_"
   },
   "outputs": [],
   "source": [
    "batch_size = 12\n",
    "train_loader = DataLoader(train_dataset, batch_size=batch_size)\n",
    "test_loader = DataLoader(test_dataset, batch_size=batch_size)"
   ]
  },
  {
   "cell_type": "markdown",
   "metadata": {
    "id": "8gIHr4uMimor"
   },
   "source": [
    "# Model"
   ]
  },
  {
   "cell_type": "code",
   "execution_count": null,
   "metadata": {
    "executionInfo": {
     "elapsed": 30089,
     "status": "aborted",
     "timestamp": 1701048575591,
     "user": {
      "displayName": "이신철",
      "userId": "00953967863074202792"
     },
     "user_tz": -540
    },
    "id": "b3fqzSEgiFP0"
   },
   "outputs": [],
   "source": [
    "# 모델 정의\n",
    "class NeuralNet(nn.Module):\n",
    "    def __init__(self, input_size, hidden_size, num_classes):\n",
    "        super(NeuralNet, self).__init__()\n",
    "        self.l1 = nn.Linear(input_size, hidden_size)\n",
    "        self.relu = nn.ReLU()\n",
    "        self.l2 = nn.Linear(hidden_size, num_classes)\n",
    "\n",
    "    def forward(self, x):\n",
    "        out = self.l1(x)\n",
    "        out = self.relu(out)\n",
    "        out = self.l2(out)\n",
    "        return out"
   ]
  },
  {
   "cell_type": "code",
   "execution_count": null,
   "metadata": {
    "executionInfo": {
     "elapsed": 7,
     "status": "aborted",
     "timestamp": 1701048575915,
     "user": {
      "displayName": "이신철",
      "userId": "00953967863074202792"
     },
     "user_tz": -540
    },
    "id": "2yxHfW7OiFNq"
   },
   "outputs": [],
   "source": [
    "hidden_size = 256\n",
    "model = NeuralNet(X_train.shape[1], hidden_size, len(class_weights))"
   ]
  },
  {
   "cell_type": "code",
   "execution_count": null,
   "metadata": {
    "executionInfo": {
     "elapsed": 6,
     "status": "aborted",
     "timestamp": 1701048575915,
     "user": {
      "displayName": "이신철",
      "userId": "00953967863074202792"
     },
     "user_tz": -540
    },
    "id": "OYnlHKYEiFLc"
   },
   "outputs": [],
   "source": [
    "len(class_weights)"
   ]
  },
  {
   "cell_type": "markdown",
   "metadata": {
    "id": "3RvjBBnRi_CN"
   },
   "source": [
    "# Loss & Optimizer"
   ]
  },
  {
   "cell_type": "code",
   "execution_count": null,
   "metadata": {
    "executionInfo": {
     "elapsed": 6,
     "status": "aborted",
     "timestamp": 1701048575915,
     "user": {
      "displayName": "이신철",
      "userId": "00953967863074202792"
     },
     "user_tz": -540
    },
    "id": "ez5gBGKLiFJD"
   },
   "outputs": [],
   "source": [
    "learning_rate = 0.01\n",
    "criterion = nn.CrossEntropyLoss(weight=torch.from_numpy(class_weights.astype(np.float32)))\n",
    "optimizer = torch.optim.Adam(model.parameters(), lr=learning_rate)"
   ]
  },
  {
   "cell_type": "markdown",
   "metadata": {
    "id": "bstZPQE-jDn0"
   },
   "source": [
    "# Training"
   ]
  },
  {
   "cell_type": "code",
   "execution_count": null,
   "metadata": {
    "executionInfo": {
     "elapsed": 6,
     "status": "aborted",
     "timestamp": 1701048575915,
     "user": {
      "displayName": "이신철",
      "userId": "00953967863074202792"
     },
     "user_tz": -540
    },
    "id": "XZ1KBx98iFG7"
   },
   "outputs": [],
   "source": [
    "# 학습\n",
    "num_epoch = 100\n",
    "\n",
    "trigger_cnt = 0\n",
    "patience=10\n",
    "best_score = torch.inf\n",
    "save_model_path = \"/content/drive/MyDrive/miniproject/YoloV8-Pose-Keypoint-Classification/models/pose_classification.pth\"\n",
    "\n",
    "for epoch in range(num_epoch):\n",
    "    train_acc = 0\n",
    "    train_loss = 0\n",
    "    loop = tqdm(train_loader)\n",
    "    for idx, (features, labels) in enumerate(loop):\n",
    "\n",
    "      # 결과 추출\n",
    "      outputs = model(features)\n",
    "      # loss 계산\n",
    "      loss = criterion(outputs, labels)\n",
    "      # 추론 결과 pred\n",
    "      predictions = outputs.argmax(dim=1, keepdim=True).squeeze()\n",
    "      # 정답 개수\n",
    "      correct = (predictions == labels).sum().item()\n",
    "      # 정확도\n",
    "      accuracy = correct / batch_size\n",
    "\n",
    "      optimizer.zero_grad()\n",
    "      loss.backward()\n",
    "      optimizer.step()\n",
    "\n",
    "    if loss < best_score: # 성능이 개선된 경우.\n",
    "      #저장 로그 출력\n",
    "      print(f\"====> 모델저장:  {epoch+1} Epoch - 이전 loss: {best_score}, 현재 loss: {loss}\")\n",
    "      # best_score교체\n",
    "      best_score = loss\n",
    "      # 저장\n",
    "      torch.save(model, save_model_path)\n",
    "      # trigger_cnt 를 0으로 초기화\n",
    "      trigger_cnt = 0\n",
    "    else: # 성능개선이 안된경우.\n",
    "      # trigger_cnt를 1 증가\n",
    "      trigger_cnt += 1\n",
    "      if patience == trigger_cnt: # patience 만큼 대기 ==> 조기 종료\n",
    "        #로그\n",
    "        print(f\"=====> {epoch+1} Epoch에서 조기종료-{best_score}에서 개선 안됨\")\n",
    "        break\n",
    "\n",
    "\n",
    "      loop.set_description(f\"Epoch [{epoch}/{num_epoch}]\")\n",
    "      loop.set_postfix(loss=loss.item(), acc=accuracy)"
   ]
  },
  {
   "cell_type": "markdown",
   "metadata": {
    "id": "k-MJ23W_jPol"
   },
   "source": [
    "# Test Model"
   ]
  },
  {
   "cell_type": "code",
   "execution_count": null,
   "metadata": {
    "executionInfo": {
     "elapsed": 6,
     "status": "aborted",
     "timestamp": 1701048575915,
     "user": {
      "displayName": "이신철",
      "userId": "00953967863074202792"
     },
     "user_tz": -540
    },
    "id": "dp7iBM5hcStz"
   },
   "outputs": [],
   "source": [
    "# 분리한 테스트셋의 x값으로 pred값 추출\n",
    "test_features = torch.from_numpy(X_test.astype(np.float32))\n",
    "test_labels = y_test\n",
    "with torch.no_grad():\n",
    "    outputs = model(test_features) # 모델에 X_test값을 넣어서 각 label에 대한 확률이 output이 된다.\n",
    "    _, predictions = torch.max(outputs, 1) # output에서 가장 확률이 높은 label의 index가 pred값이 된다.\n",
    "predictions"
   ]
  },
  {
   "cell_type": "code",
   "execution_count": null,
   "metadata": {
    "executionInfo": {
     "elapsed": 6,
     "status": "aborted",
     "timestamp": 1701048575915,
     "user": {
      "displayName": "이신철",
      "userId": "00953967863074202792"
     },
     "user_tz": -540
    },
    "id": "LG9vreQqcSrp"
   },
   "outputs": [],
   "source": [
    "print(classification_report(test_labels, predictions, target_names=encoder.classes_))"
   ]
  },
  {
   "cell_type": "code",
   "execution_count": null,
   "metadata": {
    "executionInfo": {
     "elapsed": 5,
     "status": "aborted",
     "timestamp": 1701048575915,
     "user": {
      "displayName": "이신철",
      "userId": "00953967863074202792"
     },
     "user_tz": -540
    },
    "id": "ISvImN3DjXUZ"
   },
   "outputs": [],
   "source": [
    "# confusion_matrix\n",
    "cm = confusion_matrix(test_labels, predictions)\n",
    "df_cm = pd.DataFrame(\n",
    "    cm,\n",
    "    index = encoder.classes_,\n",
    "    columns = encoder.classes_\n",
    ")\n",
    "df_cm"
   ]
  },
  {
   "cell_type": "code",
   "execution_count": null,
   "metadata": {
    "executionInfo": {
     "elapsed": 5,
     "status": "aborted",
     "timestamp": 1701048575915,
     "user": {
      "displayName": "이신철",
      "userId": "00953967863074202792"
     },
     "user_tz": -540
    },
    "id": "qYZRrp8rjXSa"
   },
   "outputs": [],
   "source": [
    "# confusion matrix 그래프\n",
    "import seaborn as sns\n",
    "def show_confusion_matrix(confusion_matrix):\n",
    "    hmap = sns.heatmap(confusion_matrix, annot=True, fmt=\"d\", cmap=\"Blues\")\n",
    "    plt.ylabel(\"Surface Ground Truth\")\n",
    "    plt.xlabel(\"Predicted Surface\")\n",
    "    plt.legend()\n",
    "\n",
    "show_confusion_matrix(df_cm)"
   ]
  },
  {
   "cell_type": "markdown",
   "metadata": {
    "id": "ctYvpO6HjtWk"
   },
   "source": [
    "# Save model"
   ]
  },
  {
   "cell_type": "code",
   "execution_count": null,
   "metadata": {
    "executionInfo": {
     "elapsed": 5,
     "status": "aborted",
     "timestamp": 1701048575915,
     "user": {
      "displayName": "이신철",
      "userId": "00953967863074202792"
     },
     "user_tz": -540
    },
    "id": "KzVYqsGgjXQC"
   },
   "outputs": [],
   "source": [
    "# 모델 저장\n",
    "PATH_SAVE = '/content/drive/MyDrive/miniproject/YoloV8-Pose-Keypoint-Classification/models/pose_classification.pth'\n",
    "torch.save(model.state_dict(), PATH_SAVE)"
   ]
  },
  {
   "cell_type": "code",
   "execution_count": null,
   "metadata": {
    "executionInfo": {
     "elapsed": 5,
     "status": "aborted",
     "timestamp": 1701048575915,
     "user": {
      "displayName": "이신철",
      "userId": "00953967863074202792"
     },
     "user_tz": -540
    },
    "id": "rl6p4cMzjXNa"
   },
   "outputs": [],
   "source": []
  },
  {
   "cell_type": "markdown",
   "metadata": {
    "id": "Cd7IjQbhkGjL"
   },
   "source": [
    "# Load Inference Model"
   ]
  },
  {
   "cell_type": "code",
   "execution_count": null,
   "metadata": {
    "executionInfo": {
     "elapsed": 5,
     "status": "aborted",
     "timestamp": 1701048575915,
     "user": {
      "displayName": "이신철",
      "userId": "00953967863074202792"
     },
     "user_tz": -540
    },
    "id": "dVbRuG_-jXLD"
   },
   "outputs": [],
   "source": [
    "model_inference =  NeuralNet(\n",
    "        X_train.shape[1],\n",
    "        hidden_size,\n",
    "        len(class_weights)\n",
    "    )\n",
    "\n",
    "model_inference.load_state_dict(\n",
    "        torch.load(PATH_SAVE, map_location=device)\n",
    "    )"
   ]
  },
  {
   "cell_type": "code",
   "execution_count": null,
   "metadata": {
    "executionInfo": {
     "elapsed": 6,
     "status": "aborted",
     "timestamp": 1701048575916,
     "user": {
      "displayName": "이신철",
      "userId": "00953967863074202792"
     },
     "user_tz": -540
    },
    "id": "HV_o39c0jXIq"
   },
   "outputs": [],
   "source": [
    "feature, label = test_dataset.__getitem__(51)\n",
    "\n",
    "out = model_inference(feature)\n",
    "_, predict = torch.max(out, -1)\n",
    "print(f'\\\n",
    "    prediction label : {encoder.classes_[predict]} \\n\\\n",
    "    ground thrut label : {encoder.classes_[label]}'\n",
    "    )"
   ]
  },
  {
   "cell_type": "code",
   "execution_count": null,
   "metadata": {
    "executionInfo": {
     "elapsed": 6,
     "status": "aborted",
     "timestamp": 1701048575916,
     "user": {
      "displayName": "이신철",
      "userId": "00953967863074202792"
     },
     "user_tz": -540
    },
    "id": "Bx8O1sQnjXGL"
   },
   "outputs": [],
   "source": [
    "encoder.classes_"
   ]
  },
  {
   "cell_type": "code",
   "execution_count": null,
   "metadata": {
    "executionInfo": {
     "elapsed": 6,
     "status": "aborted",
     "timestamp": 1701048575916,
     "user": {
      "displayName": "이신철",
      "userId": "00953967863074202792"
     },
     "user_tz": -540
    },
    "id": "YqepuGlPcSpc"
   },
   "outputs": [],
   "source": []
  },
  {
   "cell_type": "code",
   "execution_count": null,
   "metadata": {
    "executionInfo": {
     "elapsed": 5,
     "status": "aborted",
     "timestamp": 1701048575916,
     "user": {
      "displayName": "이신철",
      "userId": "00953967863074202792"
     },
     "user_tz": -540
    },
    "id": "YfWNI0cecSnK"
   },
   "outputs": [],
   "source": [
    "%cd .."
   ]
  },
  {
   "cell_type": "code",
   "execution_count": null,
   "metadata": {
    "executionInfo": {
     "elapsed": 5,
     "status": "aborted",
     "timestamp": 1701048575916,
     "user": {
      "displayName": "이신철",
      "userId": "00953967863074202792"
     },
     "user_tz": -540
    },
    "id": "7-G5TifKwEDz"
   },
   "outputs": [],
   "source": []
  },
  {
   "cell_type": "markdown",
   "metadata": {
    "id": "6eYU9LGh22K_"
   },
   "source": [
    "# Test 추론"
   ]
  },
  {
   "cell_type": "code",
   "execution_count": 15,
   "metadata": {
    "colab": {
     "base_uri": "https://localhost:8080/",
     "height": 35
    },
    "executionInfo": {
     "elapsed": 359,
     "status": "ok",
     "timestamp": 1701048604573,
     "user": {
      "displayName": "이신철",
      "userId": "00953967863074202792"
     },
     "user_tz": -540
    },
    "id": "giFhyXf-wD_b",
    "outputId": "51d5c3fb-db48-43d4-b39a-6caf317f9bad"
   },
   "outputs": [
    {
     "data": {
      "application/vnd.google.colaboratory.intrinsic+json": {
       "type": "string"
      },
      "text/plain": [
       "'/content'"
      ]
     },
     "execution_count": 15,
     "metadata": {},
     "output_type": "execute_result"
    }
   ],
   "source": [
    "import os\n",
    "os.getcwd()"
   ]
  },
  {
   "cell_type": "code",
   "execution_count": 16,
   "metadata": {
    "colab": {
     "base_uri": "https://localhost:8080/",
     "height": 35
    },
    "executionInfo": {
     "elapsed": 4,
     "status": "ok",
     "timestamp": 1701048604909,
     "user": {
      "displayName": "이신철",
      "userId": "00953967863074202792"
     },
     "user_tz": -540
    },
    "id": "zfn1G9-k2wBd",
    "outputId": "4d8ae34b-b96c-46ac-d673-e66c879dc22d"
   },
   "outputs": [
    {
     "data": {
      "application/vnd.google.colaboratory.intrinsic+json": {
       "type": "string"
      },
      "text/plain": [
       "'/content/drive/MyDrive/miniproject/YoloV8-Pose-Keypoint-Classification'"
      ]
     },
     "execution_count": 16,
     "metadata": {},
     "output_type": "execute_result"
    }
   ],
   "source": [
    "os.chdir(\"/content/drive/MyDrive/miniproject/YoloV8-Pose-Keypoint-Classification\")\n",
    "os.getcwd()"
   ]
  },
  {
   "cell_type": "code",
   "execution_count": 21,
   "metadata": {
    "executionInfo": {
     "elapsed": 258,
     "status": "ok",
     "timestamp": 1701048644217,
     "user": {
      "displayName": "이신철",
      "userId": "00953967863074202792"
     },
     "user_tz": -540
    },
    "id": "0QzLa1FVsa6U"
   },
   "outputs": [],
   "source": [
    "# Import library\n",
    "import cv2\n",
    "import numpy as np\n",
    "from PIL import Image\n",
    "from src.detection_keypoint import DetectKeypoint\n",
    "from src.classification_keypoint import KeypointClassification"
   ]
  },
  {
   "cell_type": "code",
   "execution_count": 22,
   "metadata": {
    "executionInfo": {
     "elapsed": 6874,
     "status": "ok",
     "timestamp": 1701048654030,
     "user": {
      "displayName": "이신철",
      "userId": "00953967863074202792"
     },
     "user_tz": -540
    },
    "id": "zFsprpZtsb_7"
   },
   "outputs": [],
   "source": [
    "detection_keypoint = DetectKeypoint()\n",
    "classification_keypoint = KeypointClassification(\n",
    "    '/content/drive/MyDrive/miniproject/YoloV8-Pose-Keypoint-Classification/models/pose_classification.pth'\n",
    ")"
   ]
  },
  {
   "cell_type": "code",
   "execution_count": null,
   "metadata": {
    "executionInfo": {
     "elapsed": 4,
     "status": "aborted",
     "timestamp": 1701048616590,
     "user": {
      "displayName": "이신철",
      "userId": "00953967863074202792"
     },
     "user_tz": -540
    },
    "id": "5WNa0Ucbsb9c"
   },
   "outputs": [],
   "source": [
    "# wget 설치\n",
    "!pip install wget\n",
    "import wget"
   ]
  },
  {
   "cell_type": "code",
   "execution_count": null,
   "metadata": {
    "executionInfo": {
     "elapsed": 4,
     "status": "aborted",
     "timestamp": 1701048616590,
     "user": {
      "displayName": "이신철",
      "userId": "00953967863074202792"
     },
     "user_tz": -540
    },
    "id": "RvopENGw5zao"
   },
   "outputs": [],
   "source": [
    "# 외부 이미지 링크를 다운로드 받아 f_name으로 선언\n",
    "f_name = wget.download(\"http://www.yogadestiny.com/uploads/7/4/9/7/7497330/2625707_orig.jpg\")\n",
    "f_name"
   ]
  },
  {
   "cell_type": "code",
   "execution_count": null,
   "metadata": {
    "executionInfo": {
     "elapsed": 5,
     "status": "aborted",
     "timestamp": 1701048575916,
     "user": {
      "displayName": "이신철",
      "userId": "00953967863074202792"
     },
     "user_tz": -540
    },
    "id": "51wQK7ofroQ-"
   },
   "outputs": [],
   "source": []
  },
  {
   "cell_type": "markdown",
   "metadata": {
    "id": "6DsCNgjDroy7"
   },
   "source": [
    "# 사진 테스트"
   ]
  },
  {
   "cell_type": "code",
   "execution_count": 7,
   "metadata": {
    "colab": {
     "base_uri": "https://localhost:8080/",
     "height": 35
    },
    "executionInfo": {
     "elapsed": 291,
     "status": "ok",
     "timestamp": 1701048584823,
     "user": {
      "displayName": "이신철",
      "userId": "00953967863074202792"
     },
     "user_tz": -540
    },
    "id": "LoUTalM2vRnj",
    "outputId": "52a4edb5-e6c6-4a53-e9a0-77c0549627d3"
   },
   "outputs": [
    {
     "data": {
      "application/vnd.google.colaboratory.intrinsic+json": {
       "type": "string"
      },
      "text/plain": [
       "'/content/drive/MyDrive/miniproject/yoga-pose-classification/YogaPoses/Tree/00000032.jpg'"
      ]
     },
     "execution_count": 7,
     "metadata": {},
     "output_type": "execute_result"
    }
   ],
   "source": [
    "f_name = \"/content/drive/MyDrive/miniproject/yoga-pose-classification/YogaPoses/Tree/00000032.jpg\"\n",
    "f_name"
   ]
  },
  {
   "cell_type": "code",
   "execution_count": 8,
   "metadata": {
    "colab": {
     "base_uri": "https://localhost:8080/"
    },
    "executionInfo": {
     "elapsed": 286,
     "status": "ok",
     "timestamp": 1701048586437,
     "user": {
      "displayName": "이신철",
      "userId": "00953967863074202792"
     },
     "user_tz": -540
    },
    "id": "9to1EgWH6hV5",
    "outputId": "695973f2-c39b-4910-9391-bb45852ee043"
   },
   "outputs": [
    {
     "data": {
      "text/plain": [
       "str"
      ]
     },
     "execution_count": 8,
     "metadata": {},
     "output_type": "execute_result"
    }
   ],
   "source": [
    "type(f_name)"
   ]
  },
  {
   "cell_type": "code",
   "execution_count": 23,
   "metadata": {
    "colab": {
     "base_uri": "https://localhost:8080/"
    },
    "executionInfo": {
     "elapsed": 8794,
     "status": "ok",
     "timestamp": 1701048666494,
     "user": {
      "displayName": "이신철",
      "userId": "00953967863074202792"
     },
     "user_tz": -540
    },
    "id": "DjPe_dkWsb68",
    "outputId": "36e3b6da-b5f5-43c4-88c1-f89b0600ca46"
   },
   "outputs": [
    {
     "name": "stdout",
     "output_type": "stream",
     "text": [
      "\n",
      "0: 640x640 1 person, 82.4ms\n",
      "Speed: 19.6ms preprocess, 82.4ms inference, 48.8ms postprocess per image at shape (1, 3, 640, 640)\n"
     ]
    }
   ],
   "source": [
    "# 실행, 키포인트 추출\n",
    "image = cv2.imread(f_name)\n",
    "results = detection_keypoint(image)"
   ]
  },
  {
   "cell_type": "code",
   "execution_count": 10,
   "metadata": {
    "colab": {
     "base_uri": "https://localhost:8080/"
    },
    "executionInfo": {
     "elapsed": 370,
     "status": "ok",
     "timestamp": 1701048589215,
     "user": {
      "displayName": "이신철",
      "userId": "00953967863074202792"
     },
     "user_tz": -540
    },
    "id": "Itw3bev44WIH",
    "outputId": "21319b93-90cc-49cb-9fc4-b2f4d67a7158"
   },
   "outputs": [
    {
     "data": {
      "text/plain": [
       "numpy.ndarray"
      ]
     },
     "execution_count": 10,
     "metadata": {},
     "output_type": "execute_result"
    }
   ],
   "source": [
    "type(image)"
   ]
  },
  {
   "cell_type": "code",
   "execution_count": 11,
   "metadata": {
    "colab": {
     "base_uri": "https://localhost:8080/",
     "height": 182
    },
    "executionInfo": {
     "elapsed": 3,
     "status": "error",
     "timestamp": 1701048589487,
     "user": {
      "displayName": "이신철",
      "userId": "00953967863074202792"
     },
     "user_tz": -540
    },
    "id": "2sfAuYBYkzL-",
    "outputId": "f70658e1-1291-4306-b984-a618fdfd233a"
   },
   "outputs": [
    {
     "ename": "NameError",
     "evalue": "ignored",
     "output_type": "error",
     "traceback": [
      "\u001b[0;31m---------------------------------------------------------------------------\u001b[0m",
      "\u001b[0;31mNameError\u001b[0m                                 Traceback (most recent call last)",
      "\u001b[0;32m<ipython-input-11-867f27eb9551>\u001b[0m in \u001b[0;36m<cell line: 1>\u001b[0;34m()\u001b[0m\n\u001b[0;32m----> 1\u001b[0;31m \u001b[0mtype\u001b[0m\u001b[0;34m(\u001b[0m\u001b[0mresults\u001b[0m\u001b[0;34m)\u001b[0m\u001b[0;34m\u001b[0m\u001b[0;34m\u001b[0m\u001b[0m\n\u001b[0m",
      "\u001b[0;31mNameError\u001b[0m: name 'results' is not defined"
     ]
    }
   ],
   "source": [
    "type(results)"
   ]
  },
  {
   "cell_type": "code",
   "execution_count": 24,
   "metadata": {
    "executionInfo": {
     "elapsed": 287,
     "status": "ok",
     "timestamp": 1701048670876,
     "user": {
      "displayName": "이신철",
      "userId": "00953967863074202792"
     },
     "user_tz": -540
    },
    "id": "HCepInLWsb4Z"
   },
   "outputs": [],
   "source": [
    "# 키포인트 값\n",
    "results_keypoints = results.keypoints"
   ]
  },
  {
   "cell_type": "code",
   "execution_count": 25,
   "metadata": {
    "colab": {
     "base_uri": "https://localhost:8080/"
    },
    "executionInfo": {
     "elapsed": 2,
     "status": "ok",
     "timestamp": 1701048671139,
     "user": {
      "displayName": "이신철",
      "userId": "00953967863074202792"
     },
     "user_tz": -540
    },
    "id": "2dQsn7zTysP1",
    "outputId": "57a2d8d2-8454-4e24-e3a6-45ebe586b897"
   },
   "outputs": [
    {
     "data": {
      "text/plain": [
       "ultralytics.engine.results.Keypoints object with attributes:\n",
       "\n",
       "conf: tensor([[0.9876, 0.9450, 0.9725, 0.6884, 0.8523, 0.9573, 0.9970, 0.8271, 0.9900, 0.8403, 0.9733, 0.9974, 0.9991, 0.9965, 0.9978, 0.9701, 0.9871]], device='cuda:0')\n",
       "data: tensor([[[143.6249,  63.1356,   0.9876],\n",
       "         [146.5891,  60.0698,   0.9450],\n",
       "         [140.5023,  60.4834,   0.9725],\n",
       "         [150.1965,  62.2568,   0.6884],\n",
       "         [136.6274,  63.2394,   0.8523],\n",
       "         [160.5370,  71.6806,   0.9573],\n",
       "         [129.2820,  71.3653,   0.9970],\n",
       "         [156.8009,  56.0111,   0.8271],\n",
       "         [127.1438,  53.9251,   0.9900],\n",
       "         [148.8099,  29.1170,   0.8403],\n",
       "         [136.6532,  30.9265,   0.9733],\n",
       "         [148.8673, 131.5363,   0.9974],\n",
       "         [125.8111, 125.8802,   0.9991],\n",
       "         [139.9027, 163.0797,   0.9965],\n",
       "         [104.7800, 143.2883,   0.9978],\n",
       "         [133.7281, 206.9102,   0.9701],\n",
       "         [125.7657, 146.8276,   0.9871]]], device='cuda:0')\n",
       "has_visible: True\n",
       "orig_shape: (240, 240)\n",
       "shape: torch.Size([1, 17, 3])\n",
       "xy: tensor([[[143.6249,  63.1356],\n",
       "         [146.5891,  60.0698],\n",
       "         [140.5023,  60.4834],\n",
       "         [150.1965,  62.2568],\n",
       "         [136.6274,  63.2394],\n",
       "         [160.5370,  71.6806],\n",
       "         [129.2820,  71.3653],\n",
       "         [156.8009,  56.0111],\n",
       "         [127.1438,  53.9251],\n",
       "         [148.8099,  29.1170],\n",
       "         [136.6532,  30.9265],\n",
       "         [148.8673, 131.5363],\n",
       "         [125.8111, 125.8802],\n",
       "         [139.9027, 163.0797],\n",
       "         [104.7800, 143.2883],\n",
       "         [133.7281, 206.9102],\n",
       "         [125.7657, 146.8276]]], device='cuda:0')\n",
       "xyn: tensor([[[0.5984, 0.2631],\n",
       "         [0.6108, 0.2503],\n",
       "         [0.5854, 0.2520],\n",
       "         [0.6258, 0.2594],\n",
       "         [0.5693, 0.2635],\n",
       "         [0.6689, 0.2987],\n",
       "         [0.5387, 0.2974],\n",
       "         [0.6533, 0.2334],\n",
       "         [0.5298, 0.2247],\n",
       "         [0.6200, 0.1213],\n",
       "         [0.5694, 0.1289],\n",
       "         [0.6203, 0.5481],\n",
       "         [0.5242, 0.5245],\n",
       "         [0.5829, 0.6795],\n",
       "         [0.4366, 0.5970],\n",
       "         [0.5572, 0.8621],\n",
       "         [0.5240, 0.6118]]], device='cuda:0')"
      ]
     },
     "execution_count": 25,
     "metadata": {},
     "output_type": "execute_result"
    }
   ],
   "source": [
    "results_keypoints"
   ]
  },
  {
   "cell_type": "code",
   "execution_count": 26,
   "metadata": {
    "colab": {
     "base_uri": "https://localhost:8080/",
     "height": 35
    },
    "executionInfo": {
     "elapsed": 3,
     "status": "ok",
     "timestamp": 1701048671424,
     "user": {
      "displayName": "이신철",
      "userId": "00953967863074202792"
     },
     "user_tz": -540
    },
    "id": "IXsxdKZysbxM",
    "outputId": "58e86068-eb04-431d-e096-5e7e1c01f991"
   },
   "outputs": [
    {
     "data": {
      "application/vnd.google.colaboratory.intrinsic+json": {
       "type": "string"
      },
      "text/plain": [
       "'Tree'"
      ]
     },
     "execution_count": 26,
     "metadata": {},
     "output_type": "execute_result"
    }
   ],
   "source": [
    "# 키포인트를 바탕으로 자세 추론\n",
    "results_keypoint = detection_keypoint.get_xy_keypoint(results)\n",
    "\n",
    "input_classification = results_keypoint[10:]  # 자세를 추론하는데 있어 얼굴부분은 필요하지 않기 때문에 10번 index(left_shoulder)부터 추론에 활용\n",
    "results_classification = classification_keypoint(input_classification) # 키포인트 데이터를 가지고 자세 분류\n",
    "results_classification"
   ]
  },
  {
   "cell_type": "code",
   "execution_count": 27,
   "metadata": {
    "colab": {
     "base_uri": "https://localhost:8080/",
     "height": 275
    },
    "executionInfo": {
     "elapsed": 578,
     "status": "ok",
     "timestamp": 1701048672249,
     "user": {
      "displayName": "이신철",
      "userId": "00953967863074202792"
     },
     "user_tz": -540
    },
    "id": "aYyk8Fwlsbuz",
    "outputId": "89e1dba8-72c0-4648-b285-0b17c1e09ff5"
   },
   "outputs": [
    {
     "name": "stdout",
     "output_type": "stream",
     "text": [
      "Keypoint classification : Tree\n"
     ]
    },
    {
     "data": {
      "image/png": "[encoded data removed]",
      "text/plain": [
       "<PIL.Image.Image image mode=RGB size=240x240>"
      ]
     },
     "execution_count": 27,
     "metadata": {},
     "output_type": "execute_result"
    }
   ],
   "source": [
    "## Visualise Keypoint\n",
    "height, width = image.shape[:2]\n",
    "image_draw = results.plot(boxes=False)\n",
    "import torch\n",
    "# ...\n",
    "# 이전 코드\n",
    "# x_min, y_min, x_max, y_max = results.boxes.xyxy[0].numpy()\n",
    "# 수정된 코드\n",
    "if results.boxes is not None and len(results.boxes) > 0:\n",
    "    # CUDA 텐서를 CPU로 복사하고 나서 NumPy로 변환\n",
    "    x_min, y_min, x_max, y_max = results.boxes.xyxy[0].cpu().numpy()\n",
    "    # 나머지 코드 실행\n",
    "else:\n",
    "    print(\"Bounding box 정보가 없습니다.\")\n",
    "image_draw = cv2.rectangle(\n",
    "                image_draw,\n",
    "                (int(x_min), int(y_min)),(int(x_max), int(y_max)),\n",
    "                (0,0,255), 2\n",
    "            )\n",
    "(w, h), _ = cv2.getTextSize(\n",
    "        results_classification.upper(),\n",
    "        cv2.FONT_HERSHEY_SIMPLEX, 0.5, 2\n",
    "    )\n",
    "image_draw = cv2.rectangle(\n",
    "                image_draw,\n",
    "                (int(x_min), int(y_min)-20),(int(x_min)+w, int(y_min)),\n",
    "                (0,0,255), -1\n",
    "            )\n",
    "cv2.putText(image_draw,\n",
    "            f'{results_classification.upper()}',\n",
    "            (int(x_min), int(y_min)-4),\n",
    "            cv2.FONT_HERSHEY_SIMPLEX,\n",
    "            0.5, (255, 255, 255),\n",
    "            thickness=2\n",
    "        )\n",
    "\n",
    "\n",
    "print(f'Keypoint classification : {results_classification}')\n",
    "Image.fromarray(cv2.cvtColor(image_draw, cv2.COLOR_BGR2RGB))"
   ]
  },
  {
   "cell_type": "markdown",
   "metadata": {
    "id": "9rFWhoTB5QxX"
   },
   "source": [
    "# KeyPoint 추출 및 각도 조절"
   ]
  },
  {
   "cell_type": "code",
   "execution_count": 28,
   "metadata": {
    "colab": {
     "base_uri": "https://localhost:8080/",
     "height": 275
    },
    "executionInfo": {
     "elapsed": 334,
     "status": "ok",
     "timestamp": 1701048673792,
     "user": {
      "displayName": "이신철",
      "userId": "00953967863074202792"
     },
     "user_tz": -540
    },
    "id": "8TfZl6sFsbsM",
    "outputId": "e3fd92c5-91fb-49ec-d6c8-7c6a51d0f695"
   },
   "outputs": [
    {
     "name": "stdout",
     "output_type": "stream",
     "text": [
      "Keypoint classification : Tree\n"
     ]
    },
    {
     "data": {
      "image/png": "[encoded data removed]",
      "text/plain": [
       "<PIL.Image.Image image mode=RGB size=240x240>"
      ]
     },
     "execution_count": 28,
     "metadata": {},
     "output_type": "execute_result"
    }
   ],
   "source": [
    "## Visualise Keypoint\n",
    "height, width = image.shape[:2]\n",
    "\n",
    "image_draw = image.copy()\n",
    "for idx in range(0, len(results_keypoint), 2):\n",
    "    x, y = results_keypoint[idx], results_keypoint[idx+1]\n",
    "    if x == 0 or x == 1: continue\n",
    "    if y == 0 or y == 1: continue\n",
    "    x, y = int(x*width), int(y*height)\n",
    "    # visualize point\n",
    "    image_draw = cv2.circle(image_draw, (x,y), 2, (255,255,0), 2)\n",
    "    image_draw = cv2.putText(image_draw, str(idx), (x,y), cv2.FONT_HERSHEY_SIMPLEX, 1,  (255,0,255),1)\n",
    "\n",
    "print(f'Keypoint classification : {results_classification}')\n",
    "Image.fromarray(cv2.cvtColor(image_draw, cv2.COLOR_BGR2RGB))"
   ]
  },
  {
   "cell_type": "code",
   "execution_count": 29,
   "metadata": {
    "colab": {
     "base_uri": "https://localhost:8080/"
    },
    "executionInfo": {
     "elapsed": 1,
     "status": "ok",
     "timestamp": 1701048675777,
     "user": {
      "displayName": "이신철",
      "userId": "00953967863074202792"
     },
     "user_tz": -540
    },
    "id": "LObWTy3gsbpd",
    "outputId": "71927545-c310-4480-9c04-50debdf2eb8f"
   },
   "outputs": [
    {
     "data": {
      "text/plain": [
       "ultralytics.engine.results.Keypoints object with attributes:\n",
       "\n",
       "conf: tensor([[0.9876, 0.9450, 0.9725, 0.6884, 0.8523, 0.9573, 0.9970, 0.8271, 0.9900, 0.8403, 0.9733, 0.9974, 0.9991, 0.9965, 0.9978, 0.9701, 0.9871]], device='cuda:0')\n",
       "data: tensor([[[143.6249,  63.1356,   0.9876],\n",
       "         [146.5891,  60.0698,   0.9450],\n",
       "         [140.5023,  60.4834,   0.9725],\n",
       "         [150.1965,  62.2568,   0.6884],\n",
       "         [136.6274,  63.2394,   0.8523],\n",
       "         [160.5370,  71.6806,   0.9573],\n",
       "         [129.2820,  71.3653,   0.9970],\n",
       "         [156.8009,  56.0111,   0.8271],\n",
       "         [127.1438,  53.9251,   0.9900],\n",
       "         [148.8099,  29.1170,   0.8403],\n",
       "         [136.6532,  30.9265,   0.9733],\n",
       "         [148.8673, 131.5363,   0.9974],\n",
       "         [125.8111, 125.8802,   0.9991],\n",
       "         [139.9027, 163.0797,   0.9965],\n",
       "         [104.7800, 143.2883,   0.9978],\n",
       "         [133.7281, 206.9102,   0.9701],\n",
       "         [125.7657, 146.8276,   0.9871]]], device='cuda:0')\n",
       "has_visible: True\n",
       "orig_shape: (240, 240)\n",
       "shape: torch.Size([1, 17, 3])\n",
       "xy: tensor([[[143.6249,  63.1356],\n",
       "         [146.5891,  60.0698],\n",
       "         [140.5023,  60.4834],\n",
       "         [150.1965,  62.2568],\n",
       "         [136.6274,  63.2394],\n",
       "         [160.5370,  71.6806],\n",
       "         [129.2820,  71.3653],\n",
       "         [156.8009,  56.0111],\n",
       "         [127.1438,  53.9251],\n",
       "         [148.8099,  29.1170],\n",
       "         [136.6532,  30.9265],\n",
       "         [148.8673, 131.5363],\n",
       "         [125.8111, 125.8802],\n",
       "         [139.9027, 163.0797],\n",
       "         [104.7800, 143.2883],\n",
       "         [133.7281, 206.9102],\n",
       "         [125.7657, 146.8276]]], device='cuda:0')\n",
       "xyn: tensor([[[0.5984, 0.2631],\n",
       "         [0.6108, 0.2503],\n",
       "         [0.5854, 0.2520],\n",
       "         [0.6258, 0.2594],\n",
       "         [0.5693, 0.2635],\n",
       "         [0.6689, 0.2987],\n",
       "         [0.5387, 0.2974],\n",
       "         [0.6533, 0.2334],\n",
       "         [0.5298, 0.2247],\n",
       "         [0.6200, 0.1213],\n",
       "         [0.5694, 0.1289],\n",
       "         [0.6203, 0.5481],\n",
       "         [0.5242, 0.5245],\n",
       "         [0.5829, 0.6795],\n",
       "         [0.4366, 0.5970],\n",
       "         [0.5572, 0.8621],\n",
       "         [0.5240, 0.6118]]], device='cuda:0')"
      ]
     },
     "execution_count": 29,
     "metadata": {},
     "output_type": "execute_result"
    }
   ],
   "source": [
    "results.keypoints"
   ]
  },
  {
   "cell_type": "code",
   "execution_count": 29,
   "metadata": {
    "executionInfo": {
     "elapsed": 3,
     "status": "ok",
     "timestamp": 1701048676155,
     "user": {
      "displayName": "이신철",
      "userId": "00953967863074202792"
     },
     "user_tz": -540
    },
    "id": "Nc9F3g7YaIrM"
   },
   "outputs": [],
   "source": []
  },
  {
   "cell_type": "markdown",
   "metadata": {
    "id": "QZlFkWfrfB-y"
   },
   "source": [
    "# 한글 텍스트 표현"
   ]
  },
  {
   "cell_type": "code",
   "execution_count": 30,
   "metadata": {
    "colab": {
     "base_uri": "https://localhost:8080/"
    },
    "executionInfo": {
     "elapsed": 12500,
     "status": "ok",
     "timestamp": 1701048689490,
     "user": {
      "displayName": "이신철",
      "userId": "00953967863074202792"
     },
     "user_tz": -540
    },
    "id": "o_6sqAXqARyd",
    "outputId": "887c9d15-38c1-4774-85b3-10be34dd2455"
   },
   "outputs": [
    {
     "name": "stdout",
     "output_type": "stream",
     "text": [
      "Reading package lists... Done\n",
      "Building dependency tree... Done\n",
      "Reading state information... Done\n",
      "Note, selecting 'fonts-nanum-extra' for glob 'fonts-nanum*'\n",
      "Note, selecting 'fonts-nanum-coding' for glob 'fonts-nanum*'\n",
      "Note, selecting 'fonts-nanum-eco' for glob 'fonts-nanum*'\n",
      "Note, selecting 'fonts-nanum' for glob 'fonts-nanum*'\n",
      "The following NEW packages will be installed:\n",
      "  fonts-nanum fonts-nanum-coding fonts-nanum-eco fonts-nanum-extra\n",
      "0 upgraded, 4 newly installed, 0 to remove and 10 not upgraded.\n",
      "Need to get 46.0 MB of archives.\n",
      "After this operation, 177 MB of additional disk space will be used.\n",
      "Get:1 http://archive.ubuntu.com/ubuntu jammy/universe amd64 fonts-nanum all 20200506-1 [10.3 MB]\n",
      "Get:2 http://archive.ubuntu.com/ubuntu jammy/universe amd64 fonts-nanum-coding all 2.5-3 [4,988 B]\n",
      "Get:3 http://archive.ubuntu.com/ubuntu jammy/universe amd64 fonts-nanum-eco all 1.000-7 [14.7 MB]\n",
      "Get:4 http://archive.ubuntu.com/ubuntu jammy/universe amd64 fonts-nanum-extra all 20200506-1 [21.0 MB]\n",
      "Fetched 46.0 MB in 1s (39.9 MB/s)\n",
      "debconf: unable to initialize frontend: Dialog\n",
      "debconf: (No usable dialog-like program is installed, so the dialog based frontend cannot be used. at /usr/share/perl5/Debconf/FrontEnd/Dialog.pm line 78, <> line 4.)\n",
      "debconf: falling back to frontend: Readline\n",
      "debconf: unable to initialize frontend: Readline\n",
      "debconf: (This frontend requires a controlling tty.)\n",
      "debconf: falling back to frontend: Teletype\n",
      "dpkg-preconfigure: unable to re-open stdin: \n",
      "Selecting previously unselected package fonts-nanum.\n",
      "(Reading database ... 120880 files and directories currently installed.)\n",
      "Preparing to unpack .../fonts-nanum_20200506-1_all.deb ...\n",
      "Unpacking fonts-nanum (20200506-1) ...\n",
      "Selecting previously unselected package fonts-nanum-coding.\n",
      "Preparing to unpack .../fonts-nanum-coding_2.5-3_all.deb ...\n",
      "Unpacking fonts-nanum-coding (2.5-3) ...\n",
      "Selecting previously unselected package fonts-nanum-eco.\n",
      "Preparing to unpack .../fonts-nanum-eco_1.000-7_all.deb ...\n",
      "Unpacking fonts-nanum-eco (1.000-7) ...\n",
      "Selecting previously unselected package fonts-nanum-extra.\n",
      "Preparing to unpack .../fonts-nanum-extra_20200506-1_all.deb ...\n",
      "Unpacking fonts-nanum-extra (20200506-1) ...\n",
      "Setting up fonts-nanum-extra (20200506-1) ...\n",
      "Setting up fonts-nanum (20200506-1) ...\n",
      "Setting up fonts-nanum-coding (2.5-3) ...\n",
      "Setting up fonts-nanum-eco (1.000-7) ...\n",
      "Processing triggers for fontconfig (2.13.1-4.2ubuntu5) ...\n",
      "/usr/share/fonts: caching, new cache contents: 0 fonts, 1 dirs\n",
      "/usr/share/fonts/truetype: caching, new cache contents: 0 fonts, 3 dirs\n",
      "/usr/share/fonts/truetype/humor-sans: caching, new cache contents: 1 fonts, 0 dirs\n",
      "/usr/share/fonts/truetype/liberation: caching, new cache contents: 16 fonts, 0 dirs\n",
      "/usr/share/fonts/truetype/nanum: caching, new cache contents: 39 fonts, 0 dirs\n",
      "/usr/local/share/fonts: caching, new cache contents: 0 fonts, 0 dirs\n",
      "/root/.local/share/fonts: skipping, no such directory\n",
      "/root/.fonts: skipping, no such directory\n",
      "/usr/share/fonts/truetype: skipping, looped directory detected\n",
      "/usr/share/fonts/truetype/humor-sans: skipping, looped directory detected\n",
      "/usr/share/fonts/truetype/liberation: skipping, looped directory detected\n",
      "/usr/share/fonts/truetype/nanum: skipping, looped directory detected\n",
      "/var/cache/fontconfig: cleaning cache directory\n",
      "/root/.cache/fontconfig: not cleaning non-existent cache directory\n",
      "/root/.fontconfig: not cleaning non-existent cache directory\n",
      "fc-cache: succeeded\n"
     ]
    }
   ],
   "source": [
    "# 한글 출력에 필요한 폰트 설치\n",
    "!sudo apt-get install fonts-nanum*\n",
    "!sudo fc-cache -fv"
   ]
  },
  {
   "cell_type": "code",
   "execution_count": 30,
   "metadata": {
    "executionInfo": {
     "elapsed": 4,
     "status": "ok",
     "timestamp": 1701048689490,
     "user": {
      "displayName": "이신철",
      "userId": "00953967863074202792"
     },
     "user_tz": -540
    },
    "id": "Ce3Y6JzX1xFJ"
   },
   "outputs": [],
   "source": []
  },
  {
   "cell_type": "code",
   "execution_count": 31,
   "metadata": {
    "executionInfo": {
     "elapsed": 984,
     "status": "ok",
     "timestamp": 1701048690471,
     "user": {
      "displayName": "이신철",
      "userId": "00953967863074202792"
     },
     "user_tz": -540
    },
    "id": "30r3Kcsx7Y12"
   },
   "outputs": [],
   "source": [
    "from src.calc_degree import calc_degree\n",
    "# 자세에 따른 각도 계산 및 피드백 출력 함수\n",
    "# labels -> ['Warrior2', 'Plank', 'Goddess', 'Tree', 'Downdog']\n",
    "\n",
    "# posename = results_classification\n",
    "# keypoints = results.keypoints\n",
    "def TextExtract(posename, keypoints):\n",
    "\n",
    "  # Warrior2 자세일 경우 -> 수정 완료\n",
    "  if posename == 'Warrior2':\n",
    "    # 세 점 사이 각도 구하는 함수. 상체 팔 쭉 피도록 keypoint index: 오른쪽 손목-10, 왼쪽 어깨-5, 왼쪽 손목-9\n",
    "    degree1 = calc_degree(keypoints.xy[0, 10].cpu().numpy(), keypoints.xy[0, 5].cpu().numpy(), keypoints.xy[0, 9].cpu().numpy())\n",
    "\n",
    "    # 왼쪽다리 keypoint index: 왼쪽 엉덩이-11, 왼쪽 무릎:13, 왼쪽 발목-15\n",
    "    degree3 = calc_degree(keypoints.xy[0, 11].cpu().numpy(), keypoints.xy[0, 13].cpu().numpy(), keypoints.xy[0, 15].cpu().numpy())\n",
    "\n",
    "    # 세 점 사이 각도 구하는 함수. 오른쪽 다리 keypoint index: 오른쪽 엉덩이-12, 오른쪽 무릎:14, 오른쪽 발목-16\n",
    "    degree4 = calc_degree(keypoints.xy[0, 12].cpu().numpy(), keypoints.xy[0, 14].cpu().numpy(), keypoints.xy[0, 16].cpu().numpy())\n",
    "\n",
    "    feedback_text = \"\"\n",
    "    # text = f\"{degree1}\\n{degree3}\\n{degree4}\\n\"\n",
    "\n",
    "    # 상체 피드백\n",
    "    if 160 <= degree1 <= 200:\n",
    "      feedback_text += \"올바른 자세입니다.(상체)\\n\"\n",
    "    else:\n",
    "      feedback_text += \"팔을 수평으로 맞춰주세요\\n\"\n",
    "\n",
    "    # 다리 피드백\n",
    "    if degree3 > degree4:\n",
    "      if degree4 > 120:\n",
    "        feedback_text += \"오른쪽 다리의 각도를 좁혀주세요.\"\n",
    "      elif degree4 < 50:\n",
    "        feedback_text += \"오른쪽 다리의 각도를 넓혀주세요.\"\n",
    "      else:\n",
    "        feedback_text += \"올바른 자세입니다.(하체)\"\n",
    "    else:\n",
    "      if degree3 > 120:\n",
    "        feedback_text += \"왼쪽 다리의 각도를 좁혀주세요.\"\n",
    "      elif degree3 < 50:\n",
    "        feedback_text += \"왼쪽 다리의 각도를 넓혀주세요.\"\n",
    "      else:\n",
    "        feedback_text += \"올바른 자세입니다.(하체)\"\n",
    "\n",
    "    return feedback_text\n",
    "\n",
    "  # Plank 자세일 경우 -> 수정 완료\n",
    "  elif posename == 'Plank':\n",
    "    # 왼쪽 추출 keypoints 중 하나라도 0이 있다면, 오른쪽 keypoint 추출 조건식\n",
    "    if keypoints.xy[0, 5].cpu() == [0, 0] or keypoints.xy[0, 11].cpu() == [0, 0] or keypoints.xy[0, 15].cpu() == [0, 0]:\n",
    "      # keypoint index: 오른쪽 어깨-6, 오른쪽 골반:12, 오른쪽 발목-16\n",
    "      degree = calc_degree(keypoints.xy[0, 6].cpu().numpy(), keypoints.xy[0, 12].cpu().numpy(), keypoints.xy[0, 16].cpu().numpy())\n",
    "    else:\n",
    "      # 세 점 사이 각도 구하는 함수. keypoint index: 왼쪽 어깨-5, 왼쪽 골반:11, 왼쪽 발목-15\n",
    "      degree = calc_degree(keypoints.xy[0, 5].cpu().numpy(), keypoints.xy[0, 11].cpu().numpy(), keypoints.xy[0, 15].cpu().numpy())\n",
    "\n",
    "    # text = f\"{degree}\\n\" # 각도 테스트\n",
    "\n",
    "    feedback_text = \"\"\n",
    "\n",
    "    if 130 <= degree <= 200:\n",
    "      feedback_text += f\"올바른 자세입니다.\"\n",
    "    else:\n",
    "      feedback_text += \"몸을 수평하게 만들어 주세요.\"\n",
    "\n",
    "    return feedback_text\n",
    "\n",
    "  # Goddess 자세일 경우 -> 수정 완료\n",
    "  elif posename == 'Goddess':\n",
    "    # Goddess자세는 허리 위로 (팔부분)이 너무 다양하여 다리의 각도만 사용해서 피드백하기로 결정.\n",
    "\n",
    "    # 왼쪽다리 keypoint index: 왼쪽 엉덩이-11, 왼쪽 무릎:13, 왼쪽 발목-15\n",
    "    degree1 = calc_degree(keypoints.xy[0, 11].cpu().numpy(), keypoints.xy[0, 13].cpu().numpy(), keypoints.xy[0, 15].cpu().numpy())\n",
    "\n",
    "    # 오른쪽다리 keypoint index: 오른쪽 엉덩이-12, 오른쪽 무릎:14, 오른쪽 발목-16\n",
    "    degree2 = calc_degree(keypoints.xy[0, 12].cpu().numpy(), keypoints.xy[0, 14].cpu().numpy(), keypoints.xy[0, 16].cpu().numpy())\n",
    "\n",
    "    degree_list = [degree1, degree2]\n",
    "    feedback_text = \"\"\n",
    "\n",
    "    if 70 <= degree1 <= 130 and 70 <= degree2 <= 130:\n",
    "      feedback_text += \"올바른 자세 입니다.\"\n",
    "    else:\n",
    "      for i in degree_list:\n",
    "        if i == degree1:\n",
    "          if i < 70:\n",
    "            feedback_text += \"왼쪽다리를 더 펴주세요\\n\"\n",
    "          elif i > 130:\n",
    "            feedback_text += \"왼쪽다리를 굽혀주세요\\n\"\n",
    "        else:\n",
    "          if i < 70:\n",
    "            feedback_text += \"오른다리를 더 펴주세요\\n\"\n",
    "          elif i > 130:\n",
    "            feedback_text += \"오른다리를 굽혀주세요\\n\"\n",
    "\n",
    "    return feedback_text\n",
    "\n",
    "  # Tree 자세일 경우 -> 수정완료\n",
    "  elif posename == 'Tree':\n",
    "\n",
    "    # 왼쪽다리각도 : 왼쪽 골반:11, 왼쪽 무릎-13, 왼쪽 발목-15\n",
    "    degree1 = calc_degree(keypoints.xy[0, 11].cpu().numpy(), keypoints.xy[0, 13].cpu().numpy(), keypoints.xy[0, 15].cpu().numpy())\n",
    "    # 오른쪽다리각도 : 오른쪽 골반-12, 오른쪽 무릎:14, 오른쪽 발목-16\n",
    "    degree2 = calc_degree(keypoints.xy[0, 12].cpu().numpy(), keypoints.xy[0, 14].cpu().numpy(), keypoints.xy[0, 16].cpu().numpy())\n",
    "\n",
    "    feedback_text = \"\" # 피드백 텍스트\n",
    "\n",
    "    if degree1 > degree2: # 오른발 올림\n",
    "      if degree2 > 100:\n",
    "        feedback_text += \"오른발을 더 올려주세요.\\n\"\n",
    "      else:\n",
    "        feedback_text += \"올바른 자세입니다.\\n\"\n",
    "    else: # 왼발 올림\n",
    "      if degree1 > 100:\n",
    "        feedback_text += \"왼발을 더 올려주세요.\\n\"\n",
    "      else:\n",
    "        feedback_text += \"올바른 자세입니다.\\n\"\n",
    "\n",
    "    return feedback_text\n",
    "\n",
    "  # Downdog 자세일 경우 -> 수정 완료\n",
    "  elif posename == 'Downdog':\n",
    "    # 왼쪽 추출 keypoints 중 하나라도 0이 있다면, 오른쪽 keypoint 추출 조건식\n",
    "\n",
    "    if keypoints.xy[0, 5].cpu() == [0, 0] or keypoints.xy[0, 9].cpu() == [0, 0] or keypoints.xy[0, 11].cpu() == [0, 0] or keypoints.xy[0, 15].cpu() == [0, 0]:\n",
    "      # keypoint index: 오른쪽 어깨-6, 오른쪽 골반-12, 오른쪽 발목-16\n",
    "      degree1 = calc_degree(keypoints.xy[0, 6].cpu().numpy(), keypoints.xy[0, 12].cpu().numpy(), keypoints.xy[0, 16].cpu().numpy())\n",
    "      # keypoint index: 오른쪽 손목-10, 오른쪽 어깨-6, 오른쪽 골반-12\n",
    "      degree2 = calc_degree(keypoints.xy[0, 10].cpu().numpy(), keypoints.xy[0, 6].cpu().numpy(), keypoints.xy[0, 12].cpu().numpy())\n",
    "    else:\n",
    "      # keypoint index: 왼쪽 어깨-5, 왼쪽 골반-11, 왼쪽 발목-15\n",
    "      degree1 = calc_degree(keypoints.xy[0, 5].cpu().numpy(), keypoints.xy[0, 11].cpu().numpy(), keypoints.xy[0, 15].cpu().numpy())\n",
    "      # keypoint index: 왼쪽 손목-9, 왼쪽 어깨-5, 왼쪽 골반-11\n",
    "      degree2 = calc_degree(keypoints.xy[0, 9].cpu().numpy(), keypoints.xy[0, 5].cpu().numpy(), keypoints.xy[0, 11].cpu().numpy())\n",
    "\n",
    "    degree_list = [degree1, degree2]\n",
    "    feedback_text = \"\"\n",
    "\n",
    "    # Text = f\"{degree1}\\n {degree2}\\n\"\n",
    "    if 70 <= degree1 <= 120 and 150 <= degree2 <= 200:\n",
    "      feedback_text += \"올바른 자세입니다.\"\n",
    "    else:\n",
    "      for i in degree_list:\n",
    "        if i == degree1:\n",
    "            if degree1 < 70:\n",
    "                feedback_text += \"손과 발 사이를 넓혀주세요.\\n\"\n",
    "            elif degree1 > 120:\n",
    "                feedback_text += \"손과 발 사이를 좁혀주세요.\\n\"\n",
    "        else:\n",
    "            if degree2 < 150 or degree2 > 200:\n",
    "                feedback_text += \"상체를 수평이 되도록 만들어주세요.\"\n",
    "\n",
    "    return feedback_text"
   ]
  },
  {
   "cell_type": "code",
   "execution_count": 32,
   "metadata": {
    "executionInfo": {
     "elapsed": 7,
     "status": "ok",
     "timestamp": 1701048690471,
     "user": {
      "displayName": "이신철",
      "userId": "00953967863074202792"
     },
     "user_tz": -540
    },
    "id": "svuI0eP5s05Y"
   },
   "outputs": [],
   "source": [
    "# 폰트설정(폰트객체 생성)\n",
    "font_path = '/usr/share/fonts/truetype/nanum/NanumBarunGothicBold.ttf'\n",
    "font = ImageFont.truetype(font_path, 20) # 폰트파일경로, 폰트크기"
   ]
  },
  {
   "cell_type": "code",
   "execution_count": 33,
   "metadata": {
    "colab": {
     "base_uri": "https://localhost:8080/",
     "height": 685
    },
    "executionInfo": {
     "elapsed": 6,
     "status": "ok",
     "timestamp": 1701048690471,
     "user": {
      "displayName": "이신철",
      "userId": "00953967863074202792"
     },
     "user_tz": -540
    },
    "id": "imA_IQevM_g6",
    "outputId": "ca5869b8-7762-4b54-b0fb-31af7f3afdf6"
   },
   "outputs": [
    {
     "name": "stdout",
     "output_type": "stream",
     "text": [
      "Keypoint classification : Tree\n"
     ]
    },
    {
     "data": {
      "image/png": "[encoded data removed]",
      "text/plain": [
       "<PIL.Image.Image image mode=RGB size=1080x720>"
      ]
     },
     "execution_count": 33,
     "metadata": {},
     "output_type": "execute_result"
    }
   ],
   "source": [
    "## Visualise Keypoint\n",
    "\n",
    "height, width = image.shape[:2]\n",
    "image_draw = results.plot(boxes=False)\n",
    "import torch\n",
    "\n",
    "# ...\n",
    "# 이전 코드\n",
    "# x_min, y_min, x_max, y_max = results.boxes.xyxy[0].numpy()\n",
    "# 수정된 코드\n",
    "if results.boxes is not None and len(results.boxes) > 0:\n",
    "    # CUDA 텐서를 CPU로 복사하고 나서 NumPy로 변환\n",
    "    x_min, y_min, x_max, y_max = results.boxes.xyxy[0].cpu().numpy()\n",
    "    # 나머지 코드 실행\n",
    "else:\n",
    "    print(\"Bounding box 정보가 없습니다.\")\n",
    "\n",
    "image_draw = cv2.rectangle(\n",
    "                image_draw,\n",
    "                (int(x_min), int(y_min)),(int(x_max), int(y_max)),\n",
    "                (0,0,255), 2\n",
    "            )\n",
    "(w, h), _ = cv2.getTextSize(\n",
    "        results_classification.upper(),\n",
    "        cv2.FONT_HERSHEY_SIMPLEX, 0.5, 2\n",
    "    )\n",
    "image_draw = cv2.rectangle(\n",
    "                image_draw,\n",
    "                (int(x_min), int(y_min)-20),(int(x_min)+w, int(y_min)),\n",
    "                (0,0,255), -1\n",
    "            )\n",
    "cv2.putText(image_draw,\n",
    "            f'{results_classification.upper()}',\n",
    "            (int(x_min), int(y_min)-4),\n",
    "            cv2.FONT_HERSHEY_SIMPLEX,\n",
    "            0.5, (255, 255, 255),\n",
    "            thickness=2\n",
    "        )\n",
    "# 텍스트 설정\n",
    "text = TextExtract(results_classification, results_keypoints) # 자세 및 각도 파라미터를 함수로 받아 출력할 텍스트를 return 받는다.\n",
    "img_pil = Image.fromarray(image_draw)\n",
    "img_pil = img_pil.resize((1080,720))\n",
    "draw = ImageDraw.Draw(img_pil)\n",
    "# (좌표, 좌표): 좌하단좌표 값\n",
    "draw.text((800,50), text, (0, 0, 0), font=font)\n",
    "# img_pil = img_pil.resize((1000,640))\n",
    "image_draw = np.array(img_pil)\n",
    "\n",
    "print(f'Keypoint classification : {results_classification}')\n",
    "Image.fromarray(cv2.cvtColor(image_draw, cv2.COLOR_BGR2RGB))"
   ]
  },
  {
   "cell_type": "code",
   "execution_count": null,
   "metadata": {
    "executionInfo": {
     "elapsed": 30349,
     "status": "aborted",
     "timestamp": 1701048575918,
     "user": {
      "displayName": "이신철",
      "userId": "00953967863074202792"
     },
     "user_tz": -540
    },
    "id": "n2DkjPL08icj"
   },
   "outputs": [],
   "source": []
  }
 ],
 "metadata": {
  "accelerator": "GPU",
  "colab": {
   "gpuType": "T4",
   "provenance": [],
   "toc_visible": true
  },
  "kernelspec": {
   "display_name": "Python 3 (ipykernel)",
   "language": "python",
   "name": "python3"
  },
  "language_info": {
   "codemirror_mode": {
    "name": "ipython",
    "version": 3
   },
   "file_extension": ".py",
   "mimetype": "text/x-python",
   "name": "python",
   "nbconvert_exporter": "python",
   "pygments_lexer": "ipython3",
   "version": "3.11.4"
  }
 },
 "nbformat": 4,
 "nbformat_minor": 4
}
